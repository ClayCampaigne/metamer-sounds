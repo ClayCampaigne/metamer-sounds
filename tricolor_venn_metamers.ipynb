{
 "cells": [
  {
   "cell_type": "code",
   "execution_count": 1,
   "metadata": {},
   "outputs": [],
   "source": [
    "import pandas as pd\n",
    "import matplotlib.pyplot as plt\n",
    "from ipywidgets import widgets\n",
    "from ipywidgets import interactive\n",
    "from IPython.display import Audio, display\n",
    "import numpy as np\n",
    "# from ipywidgets import widgets as w\n",
    "# from bqplot import LinearScale, DateScale, Axis, Lines, Figure, Tooltip, Scatter\n",
    "# import bqplot\n",
    "# from bqplot import pyplot as bqplt"
   ]
  },
  {
   "cell_type": "code",
   "execution_count": 2,
   "metadata": {},
   "outputs": [],
   "source": [
    "from colour_system import ColourSystem, illuminant_D65, cs_hdtv, cs_smpte, cs_srgb, get_spec"
   ]
  },
  {
   "cell_type": "code",
   "execution_count": 3,
   "metadata": {},
   "outputs": [],
   "source": [
    "from matplotlib_venn import venn3, venn3_circles\n",
    "from itertools import product\n",
    "# non-Normalization is not wor\n",
    "\n",
    "\n",
    "def tritone_metamers(f1=455.5, f2=520.5, f3=590.60, a1=0.3, a2=0.3, a3=0.3):\n",
    "    \"\"\"autoplay sound and matplotlib display\"\"\"\n",
    "    cs = cs_hdtv\n",
    "\n",
    "    max_time = 5 # make sound file short to speed loading for interaction\n",
    "    rate = 8000\n",
    "    \n",
    "    amp_tot = a1 + a2 + a3\n",
    "    if amp_tot > 1.0:\n",
    "        a1/=amp_tot\n",
    "        a2/=amp_tot\n",
    "        a3/=amp_tot\n",
    "    pitch_1 = 2*f1 - 500  # want to make the pitch change faster\n",
    "    pitch_2 = 2*f2 - 500\n",
    "    pitch_3 = 2*f3 - 500\n",
    "    times = np.linspace(0,max_time,rate*max_time)\n",
    "    sig1 = a1*np.sin(2*np.pi*pitch_1*times) \n",
    "    sig2 = a2*np.sin(2*np.pi*pitch_2*times)\n",
    "    sig3 = a3*np.sin(2*np.pi*pitch_3*times)\n",
    "    sig_tot = sig1+sig2+sig3\n",
    "\n",
    "    display(Audio(data=sig_tot, rate=rate,autoplay=True, normalize=False))\n",
    "    \n",
    "    spec1 = get_spec(f1, a1).values\n",
    "    spec2 = get_spec(f2, a2).values\n",
    "    spec3 = get_spec(f3, a3).values\n",
    "\n",
    "    plt.figure(figsize=(4,4), facecolor='k')\n",
    "    v = venn3(subsets=(1, 1, 1, 1, 1, 1, 1), set_labels = ('', '', ''))\n",
    "\n",
    "    # iterate over each patch. Patches in matplotlib_venn are identified by\n",
    "    # strings like '010', which is the intersection of the second set with the complements of 1st and 3rd.\n",
    "    # I think.\n",
    "    for elem in product([0,1],[0,1],[0,1]):\n",
    "        if elem != (0,0,0):\n",
    "            this_id = str(elem[0])+str(elem[1])+str(elem[2])  # eg '100', '010', etc\n",
    "            # the color in the patch is the sum of the signal components represented in the patch\n",
    "            this_spec = elem[0]*spec1 + elem[1]*spec2 + elem[2]*spec3  \n",
    "            this_rgb = cs.spec_to_rgb(this_spec, out_fmt='html', normalize=False)\n",
    "            v.get_patch_by_id(this_id).set_color(this_rgb)\n",
    "            v.get_patch_by_id(this_id).set_alpha(1.0)\n",
    "            v.get_label_by_id(this_id).set_text('')\n",
    "\n",
    "    c = venn3_circles(subsets=(1, 1, 1, 1, 1, 1, 1), linestyle='-')\n",
    "\n",
    "    plt.show()\n",
    "    return"
   ]
  },
  {
   "cell_type": "code",
   "execution_count": 184,
   "metadata": {},
   "outputs": [
    {
     "data": {
      "application/vnd.jupyter.widget-view+json": {
       "model_id": "80ee7a52e73c45639a682a8c3aa6a580",
       "version_major": 2,
       "version_minor": 0
      },
      "text/plain": [
       "interactive(children=(FloatSlider(value=455.5, description='f1', max=779.0, min=381.0), FloatSlider(value=520.…"
      ]
     },
     "metadata": {},
     "output_type": "display_data"
    }
   ],
   "source": [
    "# autoplay interactive\n",
    "v = interactive(tritone_metamers, f1=(381.0,779.0), f2=(381.0,779.0), f3=(381.0,779.0), a1=(0.0,1.0, 0.01),\n",
    "                a2=(0.0,1.0, 0.01), a3=(0.0,1.0, 0.01))\n",
    "display(v)"
   ]
  },
  {
   "cell_type": "code",
   "execution_count": null,
   "metadata": {},
   "outputs": [],
   "source": []
  },
  {
   "cell_type": "code",
   "execution_count": 185,
   "metadata": {},
   "outputs": [],
   "source": [
    "#  python-colormath"
   ]
  },
  {
   "cell_type": "code",
   "execution_count": 4,
   "metadata": {},
   "outputs": [],
   "source": [
    "import numpy as np\n",
    "import colormath as cm\n",
    "import pandas as pd"
   ]
  },
  {
   "cell_type": "code",
   "execution_count": 9,
   "metadata": {},
   "outputs": [],
   "source": [
    "from colormath.color_objects import XYZColor, sRGBColor\n",
    "from colormath.color_conversions import convert_color\n",
    "from colormath.color_objects import SpectralColor"
   ]
  },
  {
   "cell_type": "code",
   "execution_count": 11,
   "metadata": {},
   "outputs": [],
   "source": [
    "def get_spec_for_cm(wvl, amp):\n",
    "    \"\"\"Clay gets a color spectrum for a single wavelength, amplitude pair\"\"\"\n",
    "    # the color frequencies are represented on a grid of 380-780 nm in 5 nm steps\n",
    "    # if the result is not the right length, you probably gave a bad input\n",
    "    #  which required adding a new index entry\n",
    "    # not sure why the following assertion doesn't prevent that:\n",
    "    assert 340 <= wvl <= 830, \"we require 340 < wvl < 830\"\n",
    "    spec = pd.Series(index=range(340, 831, 10), data=0.0)\n",
    "    spec[int(np.round(wvl/10.)*10.)] = amp  # round the signals to the nearest 5.0\n",
    "    return spec\n",
    "\n",
    "# do summation on this pandas series\n",
    "\n",
    "def get_cm_sc_args(spec):\n",
    "    spec_dict = spec[spec>0].to_dict()\n",
    "    return {f\"spec_{wvl}nm\": spec_dict[wvl] for wvl in spec_dict}\n",
    "\n",
    "def cmsc_from_spec(spec):\n",
    "    return SpectralColor(**get_cm_sc_args(spec))"
   ]
  },
  {
   "cell_type": "code",
   "execution_count": 12,
   "metadata": {},
   "outputs": [],
   "source": [
    "sc1 = get_spec_for_cm(340, 10)\n",
    "sc2 = get_spec_for_cm(350, 10)\n",
    "sc3 = get_spec_for_cm(370, 10)\n",
    "sc_tot = sc1 + sc2 + sc3\n",
    "cmsc = cmsc_from_spec(sc_tot)\n",
    "rgb_ = convert_color(cmsc, sRGBColor)\n",
    "rgb_ = convert_color(cmsc, sRGBColor)"
   ]
  },
  {
   "cell_type": "code",
   "execution_count": null,
   "metadata": {},
   "outputs": [],
   "source": []
  },
  {
   "cell_type": "code",
   "execution_count": 15,
   "metadata": {},
   "outputs": [],
   "source": [
    "from matplotlib_venn import venn3, venn3_circles\n",
    "from itertools import product\n",
    "# non-Normalization is not wor\n",
    "\n",
    "\n",
    "def tritone_metamers_cm(f1=460, f2=530, f3=610.60, a1=0.75, a2=0.85, a3=0.85):\n",
    "    \"\"\"autoplay sound and matplotlib display\"\"\"\n",
    "    cs = cs_hdtv\n",
    "\n",
    "    max_time = 15 # make sound file short to speed loading for interaction\n",
    "    rate = 8000\n",
    "    \n",
    "    amp_tot = a1 + a2 + a3\n",
    "    if amp_tot > 1.0:\n",
    "        a1/=amp_tot\n",
    "        a2/=amp_tot\n",
    "        a3/=amp_tot\n",
    "    pitch_1 = 2*f1 - 500  # want to make the pitch change faster\n",
    "    pitch_2 = 2*f2 - 500\n",
    "    pitch_3 = 2*f3 - 500\n",
    "    times = np.linspace(0,max_time,rate*max_time)\n",
    "    sig1 = a1*np.sin(2*np.pi*pitch_1*times) \n",
    "    sig2 = a2*np.sin(2*np.pi*pitch_2*times)\n",
    "    sig3 = a3*np.sin(2*np.pi*pitch_3*times)\n",
    "    sig_tot = sig1+sig2+sig3\n",
    "\n",
    "    display(Audio(data=sig_tot, rate=rate,autoplay=True, normalize=False))\n",
    "    \n",
    "    scale = 15\n",
    "    spec1 = scale * get_spec_for_cm(f1, a1)\n",
    "    spec2 = scale * get_spec_for_cm(f2, a2)\n",
    "    spec3 = scale * get_spec_for_cm(f3, a3)\n",
    "\n",
    "    plt.figure(figsize=(4,4), facecolor='k')\n",
    "    v = venn3(subsets=(1, 1, 1, 1, 1, 1, 1), set_labels = ('', '', ''))\n",
    "\n",
    "    # iterate over each patch. Patches in matplotlib_venn are identified by\n",
    "    # strings like '010', which is the intersection of the second set with the complements of 1st and 3rd.\n",
    "    # I think.\n",
    "    for elem in product([0,1],[0,1],[0,1]):\n",
    "        if elem != (0,0,0):\n",
    "            this_id = str(elem[0])+str(elem[1])+str(elem[2])  # eg '100', '010', etc\n",
    "            # the color in the patch is the sum of the signal components represented in the patch\n",
    "            this_spec = elem[0]*spec1 + elem[1]*spec2 + elem[2]*spec3 \n",
    "            \n",
    "            this_cmsc = cmsc_from_spec(this_spec)\n",
    "            \n",
    "            this_rgb = convert_color(this_cmsc, sRGBColor)\n",
    "            this_clamped_rgb = sRGBColor(this_rgb.clamped_rgb_r,\n",
    "                                         this_rgb.clamped_rgb_g,\n",
    "                                         this_rgb.clamped_rgb_b)\n",
    "\n",
    "            v.get_patch_by_id(this_id).set_color(this_clamped_rgb.get_rgb_hex())\n",
    "            v.get_patch_by_id(this_id).set_alpha(1.0)\n",
    "            v.get_label_by_id(this_id).set_text('')\n",
    "\n",
    "    c = venn3_circles(subsets=(1, 1, 1, 1, 1, 1, 1), linestyle='-')\n",
    "\n",
    "    plt.show()\n",
    "    return"
   ]
  },
  {
   "cell_type": "code",
   "execution_count": 16,
   "metadata": {},
   "outputs": [
    {
     "data": {
      "application/vnd.jupyter.widget-view+json": {
       "model_id": "c6240fee439e487fbeb1c222d74b5f52",
       "version_major": 2,
       "version_minor": 0
      },
      "text/plain": [
       "interactive(children=(FloatSlider(value=460.0, description='f1', max=779.0, min=381.0, step=2.0), FloatSlider(…"
      ]
     },
     "metadata": {},
     "output_type": "display_data"
    }
   ],
   "source": [
    "# autoplay interactive\n",
    "v = interactive(tritone_metamers_cm, f1=(381.0,779.0, 2), f2=(381.0,779.0, 2), f3=(381.0,779.0, 2), a1=(0.0,1.0, .05),\n",
    "                a2=(0.0,1.0, .05), a3=(0.0,1.0, .05))\n",
    "display(v)"
   ]
  },
  {
   "cell_type": "code",
   "execution_count": null,
   "metadata": {},
   "outputs": [],
   "source": []
  },
  {
   "cell_type": "code",
   "execution_count": null,
   "metadata": {},
   "outputs": [],
   "source": []
  },
  {
   "cell_type": "markdown",
   "metadata": {},
   "source": [
    "# Try using colour-science package to no avail, to get non-normalized total color intensity"
   ]
  },
  {
   "cell_type": "code",
   "execution_count": 8,
   "metadata": {},
   "outputs": [],
   "source": [
    "import pandas as pd\n",
    "import colour\n",
    "import numpy as np\n",
    "from colour.plotting import *"
   ]
  },
  {
   "cell_type": "code",
   "execution_count": 9,
   "metadata": {},
   "outputs": [],
   "source": [
    "def wvl_int_to_sd(wv, amp, gridspace=1):\n",
    "    \"\"\"Get a delta function for a single wavelength/intensity pair\"\"\"\n",
    "    data_sample = {i:0.0 for i in range(360, 831, gridspace)}\n",
    "    data_sample[int(gridspace*np.round(wv/gridspace))] = amp # round to the grid and set amplitude\n",
    "    return colour.SpectralDistribution(data_sample)"
   ]
  },
  {
   "cell_type": "code",
   "execution_count": 11,
   "metadata": {},
   "outputs": [],
   "source": [
    "def specd_to_rgb(sd):\n",
    "    return colour.XYZ_to_sRGB(colour.sd_to_XYZ(sd))"
   ]
  },
  {
   "cell_type": "code",
   "execution_count": 13,
   "metadata": {},
   "outputs": [
    {
     "data": {
      "image/png": "[encoded data removed]",
      "text/plain": [
       "<Figure size 432x288 with 1 Axes>"
      ]
     },
     "metadata": {
      "needs_background": "light"
     },
     "output_type": "display_data"
    },
    {
     "data": {
      "text/plain": [
       "(<Figure size 432x288 with 1 Axes>,\n",
       " <AxesSubplot:title={'center':'SpectralDistribution (140290414807248) - CIE 1931 2$^\\\\circ$ Standard Observer'}, xlabel='Wavelength $\\\\lambda$ (nm)', ylabel='Spectral Distribution'>)"
      ]
     },
     "execution_count": 13,
     "metadata": {},
     "output_type": "execute_result"
    }
   ],
   "source": [
    "sd_ = wvl_int_to_sd(701.1,10) + wvl_int_to_sd(400.1,10)\n",
    "colour.plotting.plot_single_sd(sd_)"
   ]
  },
  {
   "cell_type": "code",
   "execution_count": 14,
   "metadata": {},
   "outputs": [
    {
     "data": {
      "image/png": "[encoded data removed]",
      "text/plain": [
       "<Figure size 432x288 with 1 Axes>"
      ]
     },
     "metadata": {},
     "output_type": "display_data"
    },
    {
     "data": {
      "text/plain": [
       "(<Figure size 432x288 with 1 Axes>, <AxesSubplot:>)"
      ]
     },
     "execution_count": 14,
     "metadata": {},
     "output_type": "execute_result"
    }
   ],
   "source": [
    "# this is clearly wrong and I get negative RGB values.\n",
    "sd_ = wvl_int_to_sd(480,10) + wvl_int_to_sd(490,10)\n",
    "rgb_swatch = colour.XYZ_to_sRGB(colour.sd_to_XYZ(sd_))\n",
    "colour.plotting.plot_single_colour_swatch(\n",
    "    ColourSwatch('Sample', rgb_swatch),\n",
    "    text_kwargs={'size': 'x-large'})"
   ]
  }
 ],
 "metadata": {
  "@webio": {
   "lastCommId": null,
   "lastKernelId": null
  },
  "kernelspec": {
   "display_name": "Python 3",
   "language": "python",
   "name": "python3"
  },
  "language_info": {
   "codemirror_mode": {
    "name": "ipython",
    "version": 3
   },
   "file_extension": ".py",
   "mimetype": "text/x-python",
   "name": "python",
   "nbconvert_exporter": "python",
   "pygments_lexer": "ipython3",
   "version": "3.7.3"
  }
 },
 "nbformat": 4,
 "nbformat_minor": 4
}
