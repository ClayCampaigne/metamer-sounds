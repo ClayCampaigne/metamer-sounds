{
 "cells": [
  {
   "cell_type": "code",
   "execution_count": 1,
   "metadata": {},
   "outputs": [],
   "source": [
    "import pandas as pd\n",
    "import matplotlib.pyplot as plt\n",
    "from ipywidgets import widgets\n",
    "from ipywidgets import interactive\n",
    "from IPython.display import Audio, display\n",
    "import numpy as np\n",
    "# from ipywidgets import widgets as w\n",
    "# from bqplot import LinearScale, DateScale, Axis, Lines, Figure, Tooltip, Scatter\n",
    "# import bqplot\n",
    "# from bqplot import pyplot as bqplt"
   ]
  },
  {
   "cell_type": "code",
   "execution_count": 2,
   "metadata": {},
   "outputs": [],
   "source": [
    "from colormath.color_objects import XYZColor, sRGBColor\n",
    "from colormath.color_conversions import convert_color\n",
    "from colormath.color_objects import SpectralColor"
   ]
  },
  {
   "cell_type": "code",
   "execution_count": 3,
   "metadata": {},
   "outputs": [],
   "source": [
    "def get_spec_for_cm(wvl, amp):\n",
    "    \"\"\"Get a pandas series with appropriate index\"\"\"\n",
    "    # \n",
    "    assert 340 <= wvl <= 830, \"we require 340 < wvl < 830\"\n",
    "    spec = pd.Series(index=range(340, 831, 10), data=0.0)\n",
    "    spec[int(np.round(wvl/10.)*10.)] = amp  # round the signals to the nearest 5.0\n",
    "    return spec\n",
    "\n",
    "# do summation on this pandas series\n",
    "\n",
    "def get_cm_sc_args(spec):\n",
    "    spec_dict = spec[spec>0].to_dict()\n",
    "    return {f\"spec_{wvl}nm\": spec_dict[wvl] for wvl in spec_dict}\n",
    "\n",
    "def cmsc_from_spec(spec):\n",
    "    return SpectralColor(**get_cm_sc_args(spec))"
   ]
  },
  {
   "cell_type": "code",
   "execution_count": 8,
   "metadata": {},
   "outputs": [],
   "source": [
    "from matplotlib_venn import venn3, venn3_circles\n",
    "from itertools import product\n",
    "\n",
    "\n",
    "def tritone_metamers_cm(wvl_1=460, wvl_2=530, wvl_3=610.60, a1=0.75, a2=0.85, a3=0.85):\n",
    "    \"\"\"autoplay sound and matplotlib display\"\"\"\n",
    "    max_time = 15 # make sound file short to speed loading for interaction\n",
    "    rate = 8000\n",
    "    \n",
    "    amp_tot = a1 + a2 + a3\n",
    "    if amp_tot > 1.0:\n",
    "        a1/=amp_tot\n",
    "        a2/=amp_tot\n",
    "        a3/=amp_tot\n",
    "    pitch_1 = 1000 - wvl_1  # want to make the pitch change faster\n",
    "    pitch_2 = 1000 - wvl_2\n",
    "    pitch_3 = 1000 - wvl_3\n",
    "    times = np.linspace(0,max_time,rate*max_time)\n",
    "    sig1 = a1*np.sin(2*np.pi*pitch_1*times) \n",
    "    sig2 = a2*np.sin(2*np.pi*pitch_2*times)\n",
    "    sig3 = a3*np.sin(2*np.pi*pitch_3*times)\n",
    "    sig_tot = sig1+sig2+sig3\n",
    "\n",
    "    display(Audio(data=sig_tot, rate=rate,autoplay=True, normalize=False))\n",
    "    \n",
    "    scale = 15\n",
    "    spec1 = scale * get_spec_for_cm(wvl_1, a1)\n",
    "    spec2 = scale * get_spec_for_cm(wvl_2, a2)\n",
    "    spec3 = scale * get_spec_for_cm(wvl_3, a3)\n",
    "\n",
    "    plt.figure(figsize=(4,4), facecolor='k')\n",
    "    v = venn3(subsets=(1, 1, 1, 1, 1, 1, 1), set_labels = ('', '', ''))\n",
    "\n",
    "    # iterate over each patch. Patches in matplotlib_venn are identified by\n",
    "    # strings like '010', which is the intersection of the second set with the complements of 1st and 3rd.\n",
    "    # I think.\n",
    "    for elem in product([0,1],[0,1],[0,1]):\n",
    "        if elem != (0,0,0):\n",
    "            this_id = str(elem[0])+str(elem[1])+str(elem[2])  # eg '100', '010', etc\n",
    "            # the color in the patch is the sum of the signal components represented in the patch\n",
    "            this_spec = elem[0]*spec1 + elem[1]*spec2 + elem[2]*spec3 \n",
    "            \n",
    "            this_cmsc = cmsc_from_spec(this_spec)\n",
    "            \n",
    "            this_rgb = convert_color(this_cmsc, sRGBColor)\n",
    "            this_clamped_rgb = sRGBColor(this_rgb.clamped_rgb_r,\n",
    "                                         this_rgb.clamped_rgb_g,\n",
    "                                         this_rgb.clamped_rgb_b)\n",
    "\n",
    "            v.get_patch_by_id(this_id).set_color(this_clamped_rgb.get_rgb_hex())\n",
    "            v.get_patch_by_id(this_id).set_alpha(1.0)\n",
    "            v.get_label_by_id(this_id).set_text('')\n",
    "\n",
    "    c = venn3_circles(subsets=(1, 1, 1, 1, 1, 1, 1), linestyle='-')\n",
    "\n",
    "    plt.show()\n",
    "    return"
   ]
  },
  {
   "cell_type": "code",
   "execution_count": 9,
   "metadata": {},
   "outputs": [
    {
     "data": {
      "application/vnd.jupyter.widget-view+json": {
       "model_id": "5ed2591751e54987a682e2f9649db9dd",
       "version_major": 2,
       "version_minor": 0
      },
      "text/plain": [
       "interactive(children=(FloatSlider(value=460.0, description='wvl_1', max=779.0, min=381.0, step=2.0), FloatSlid…"
      ]
     },
     "metadata": {},
     "output_type": "display_data"
    }
   ],
   "source": [
    "# autoplay interactive\n",
    "v = interactive(tritone_metamers_cm, wvl_1=(381.0,779.0, 2), wvl_2=(381.0,779.0, 2), wvl_3=(381.0,779.0, 2), a1=(0.0,1.0, .05),\n",
    "                a2=(0.0,1.0, .05), a3=(0.0,1.0, .05))\n",
    "display(v)"
   ]
  },
  {
   "cell_type": "code",
   "execution_count": null,
   "metadata": {},
   "outputs": [],
   "source": []
  },
  {
   "cell_type": "code",
   "execution_count": null,
   "metadata": {},
   "outputs": [],
   "source": []
  },
  {
   "cell_type": "code",
   "execution_count": null,
   "metadata": {},
   "outputs": [],
   "source": []
  },
  {
   "cell_type": "code",
   "execution_count": null,
   "metadata": {},
   "outputs": [],
   "source": []
  },
  {
   "cell_type": "code",
   "execution_count": null,
   "metadata": {},
   "outputs": [],
   "source": []
  },
  {
   "cell_type": "code",
   "execution_count": null,
   "metadata": {},
   "outputs": [],
   "source": []
  },
  {
   "cell_type": "code",
   "execution_count": null,
   "metadata": {},
   "outputs": [],
   "source": []
  },
  {
   "cell_type": "code",
   "execution_count": null,
   "metadata": {},
   "outputs": [],
   "source": []
  }
 ],
 "metadata": {
  "kernelspec": {
   "display_name": "Python 3",
   "language": "python",
   "name": "python3"
  },
  "language_info": {
   "codemirror_mode": {
    "name": "ipython",
    "version": 3
   },
   "file_extension": ".py",
   "mimetype": "text/x-python",
   "name": "python",
   "nbconvert_exporter": "python",
   "pygments_lexer": "ipython3",
   "version": "3.7.3"
  }
 },
 "nbformat": 4,
 "nbformat_minor": 4
}
