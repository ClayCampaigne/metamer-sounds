{
 "cells": [
  {
   "cell_type": "code",
   "execution_count": 174,
   "metadata": {},
   "outputs": [],
   "source": [
    "import pandas as pd\n",
    "import matplotlib.pyplot as plt\n",
    "from ipywidgets import widgets\n",
    "from ipywidgets import interactive\n",
    "from IPython.display import Audio, display\n",
    "import numpy as np"
   ]
  },
  {
   "cell_type": "code",
   "execution_count": 175,
   "metadata": {},
   "outputs": [],
   "source": [
    "from colormath.color_objects import XYZColor, sRGBColor, SpectralColor\n",
    "from colormath.color_conversions import convert_color"
   ]
  },
  {
   "cell_type": "code",
   "execution_count": 176,
   "metadata": {},
   "outputs": [],
   "source": [
    "def get_spec_for_cm(wvl, amp):\n",
    "    \"\"\"Get a pandas series with index appropriate to colormath pectral color density with a single nonzero power\"\"\"\n",
    "    assert 340 <= wvl <= 830, \"we require 340 < wvl < 830\"\n",
    "    spec = pd.Series(index=range(340, 831, 10), data=0.0)\n",
    "    spec[int(np.round(wvl / 10.) * 10.)] = amp  # round the signals to the nearest 10\n",
    "    return spec\n",
    "\n",
    "# do summation on the pandas series returned by the above function,\n",
    "# then pass those series into the following functions:\n",
    "\n",
    "def get_cm_sc_args(spec):\n",
    "    spec_dict = spec[spec>0].to_dict()\n",
    "    return {f\"spec_{wvl}nm\": spec_dict[wvl] for wvl in spec_dict}\n",
    "\n",
    "def cmsc_from_spec(spec):\n",
    "    return SpectralColor(**get_cm_sc_args(spec))"
   ]
  },
  {
   "cell_type": "code",
   "execution_count": 177,
   "metadata": {},
   "outputs": [],
   "source": [
    "c_light_mps = 299792458.  # speed of light in meters per second\n",
    "c_sound_mps = 343.  # speed of sound in meters per second\n",
    "\n",
    "# conversion from wavelength to frequency:\n",
    "\n",
    "# freq_light_Hz = c_light_mps / (wvl_light_m) = c_light_mps / (wvl_light_nM * 1e-9)\n",
    "\n",
    "min_wvl_nM = 381. \n",
    "max_wvl_nM = 779. \n",
    "min_freq_EM_Hz = c_light_mps / (max_wvl_nM * 1e-9)\n",
    "max_freq_EM_Hz = c_light_mps / (min_wvl_nM * 1e-9)\n",
    "\n",
    "min_pitch_hz = 60.\n",
    "max_wvl_sound_m = c_sound_mps / min_pitch_hz\n",
    "max_pitch_hz = 4000.\n",
    "min_wvl_sound_m = c_sound_mps / max_pitch_hz\n",
    "\n",
    "# let's map light frequency to sound frequency linearly, such that the mins and maxes of the \n",
    "# respective scales match up:\n",
    "\n",
    "# pitch_hz = m * EM_freq_hz + b\n",
    "\n",
    "# min_pitch_hz = m * min_freq_EM_Hz + b\n",
    "# max_pitch_hz = m * max_freq_EM_Hz + b\n",
    "# solve these for m and b: \n",
    "\n",
    "# m = (max_pitch_hz - min_pitch_hz) / (max_freq_EM_Hz - min_freq_EM_Hz)\n",
    "# b = min_pitch_hz - m * min_freq_EM_Hz\n",
    "\n",
    "# def em_wvl_nm_to_em_hz(wvl_nm, c_light_mps = c_light_mps):\n",
    "#     return c_light_mps / (wvl_nm * 1e-9)\n",
    "\n",
    "# def em_hz_to_pitch_hz(em_hz, m=m, b=b):\n",
    "#     return m * em_hz + b\n",
    "\n",
    "# def em_wvl_nm_to_pitch_hz(wvl_nm, c_light_mps=c_light_mps, c_sound_mps=c_sound_mps, m=m, b=b):\n",
    "#     em_hz = em_wvl_nm_to_em_hz(wvl_nm)\n",
    "#     return em_hz_to_pitch_hz(em_hz)"
   ]
  },
  {
   "cell_type": "code",
   "execution_count": 178,
   "metadata": {},
   "outputs": [],
   "source": [
    "# attempt 2: let's do the conversion between wavelengths, then map to sound frequency"
   ]
  },
  {
   "cell_type": "code",
   "execution_count": 179,
   "metadata": {},
   "outputs": [],
   "source": [
    "m = (max_wvl_sound_m - min_wvl_sound_m) / (max_wvl_nM - min_wvl_nM)\n",
    "b = min_wvl_sound_m - m * min_wvl_nM"
   ]
  },
  {
   "cell_type": "code",
   "execution_count": 180,
   "metadata": {},
   "outputs": [],
   "source": [
    "def desired_sound_wvl_from_wvl_light(wvl_light, m=m, b=b):\n",
    "    return m * wvl_light + b\n",
    "\n",
    "def desired_pitch_from_wvl_light(wvl_light, m=m, b=b, c_sound_mps=c_sound_mps):\n",
    "    desired_sound_wvl = desired_sound_wvl_from_wvl_light(wvl_light, m=m, b=b)\n",
    "    desired_pitch = c_sound_mps / desired_sound_wvl\n",
    "    return desired_pitch"
   ]
  },
  {
   "cell_type": "code",
   "execution_count": 181,
   "metadata": {},
   "outputs": [],
   "source": [
    "# rate=8000\n",
    "# max_time=5\n",
    "# times = np.linspace(0, max_time, rate * 5)\n",
    "# sig_test =  1*np.sin(2 * np.pi * 12024 * times)\n",
    "# display(Audio(data=sig_test, rate=rate, autoplay=True, normalize=False))"
   ]
  },
  {
   "cell_type": "code",
   "execution_count": 182,
   "metadata": {},
   "outputs": [],
   "source": [
    "from matplotlib_venn import venn3, venn3_circles\n",
    "from itertools import product\n",
    "\n",
    "def tritone_metamers_cm(wvl_1=460, wvl_2=530, wvl_3=610.60, a1=0.75, a2=0.85, a3=0.85):\n",
    "    \"\"\"autoplay sound and matplotlib display\"\"\"\n",
    "    max_time = 15 # make sound file short to speed loading for interaction\n",
    "    rate = 8000\n",
    "    \n",
    "    amp_tot = a1 + a2 + a3\n",
    "    if amp_tot > 1.0:\n",
    "        a1 /= amp_tot\n",
    "        a2 /= amp_tot\n",
    "        a3 /= amp_tot\n",
    "    pitch_1 = desired_pitch_from_wvl_light(wvl_1)\n",
    "    pitch_2 = desired_pitch_from_wvl_light(wvl_2)\n",
    "    pitch_3 = desired_pitch_from_wvl_light(wvl_3)\n",
    "    \n",
    "    print(f\"wvl_1 = {wvl_1} nM and pitch_1 = {pitch_1:.2f} Hz\")\n",
    "    print(f\"wvl_2 = {wvl_2} nM and pitch_2 = {pitch_2:.2f} Hz\")\n",
    "    print(f\"wvl_3 = {wvl_3} nM and pitch_3 = {pitch_3:.2f} Hz\")\n",
    "    \n",
    "    times = np.linspace(0, max_time, rate * max_time)\n",
    "    sig1 = a1 * np.sin(2 * np.pi * pitch_1 * times) \n",
    "    sig2 = a2 * np.sin(2 * np.pi * pitch_2 * times)\n",
    "    sig3 = a3 * np.sin(2 * np.pi * pitch_3 * times)\n",
    "    sig_tot = sig1 + sig2 + sig3\n",
    "\n",
    "    display(Audio(data=sig_tot, rate=rate, autoplay=True, normalize=False))\n",
    "    \n",
    "    scale = 15\n",
    "    spec1 = scale * get_spec_for_cm(wvl_1, a1)\n",
    "    spec2 = scale * get_spec_for_cm(wvl_2, a2)\n",
    "    spec3 = scale * get_spec_for_cm(wvl_3, a3)\n",
    "\n",
    "    plt.figure(figsize=(4, 4), facecolor='k')\n",
    "    v = venn3(subsets=(1, 1, 1, 1, 1, 1, 1), set_labels = ('', '', ''))\n",
    "\n",
    "    # iterate over each patch. Patches in matplotlib_venn are identified by\n",
    "    # strings like '010', which is the intersection of the second set with the complements of 1st and 3rd.\n",
    "    # I think.\n",
    "    for elem in product([0,1], [0,1], [0,1]):\n",
    "        if elem != (0,0,0):\n",
    "            this_id = str(elem[0]) + str(elem[1]) + str(elem[2])  # eg '100', '010', etc\n",
    "            # the color in the patch is the sum of the signal components represented in the patch\n",
    "            this_spec = elem[0]*spec1 + elem[1]*spec2 + elem[2]*spec3 \n",
    "            this_cmsc = cmsc_from_spec(this_spec)\n",
    "            this_rgb = convert_color(this_cmsc, sRGBColor)\n",
    "            this_clamped_rgb = sRGBColor(this_rgb.clamped_rgb_r,\n",
    "                                         this_rgb.clamped_rgb_g,\n",
    "                                         this_rgb.clamped_rgb_b)\n",
    "\n",
    "            v.get_patch_by_id(this_id).set_color(this_clamped_rgb.get_rgb_hex())\n",
    "            v.get_patch_by_id(this_id).set_alpha(1.0)\n",
    "            v.get_label_by_id(this_id).set_text('')\n",
    "\n",
    "    c = venn3_circles(subsets=(1, 1, 1, 1, 1, 1, 1), linestyle='-')\n",
    "\n",
    "    plt.show()\n",
    "    return"
   ]
  },
  {
   "cell_type": "markdown",
   "metadata": {},
   "source": [
    "## For the sliders, \"wvl\" stands for \"wavelength\", and \"a\" stands for \"amplitude\" or loudness/intensity"
   ]
  },
  {
   "cell_type": "code",
   "execution_count": 184,
   "metadata": {},
   "outputs": [
    {
     "data": {
      "application/vnd.jupyter.widget-view+json": {
       "model_id": "27b652ed56254481b0ea702e3f2e0ea7",
       "version_major": 2,
       "version_minor": 0
      },
      "text/plain": [
       "interactive(children=(FloatSlider(value=460.0, description='wvl_1', max=779.0, min=381.0, step=2.0), FloatSlid…"
      ]
     },
     "metadata": {},
     "output_type": "display_data"
    }
   ],
   "source": [
    "# autoplay interactive\n",
    "v = interactive(tritone_metamers_cm, \n",
    "                wvl_1=(381.0,779.0, 2), \n",
    "                wvl_2=(381.0,779.0, 2), \n",
    "                wvl_3=(381.0,779.0, 2), \n",
    "                a1=(0.0,1.0, .05),\n",
    "                a2=(0.0,1.0, .05), \n",
    "                a3=(0.0,1.0, .05))\n",
    "display(v)"
   ]
  },
  {
   "cell_type": "markdown",
   "metadata": {},
   "source": [
    "Wavelength to frequency: freq = c / wavelength, where c is the speed of propogation of the wave"
   ]
  },
  {
   "cell_type": "code",
   "execution_count": 21,
   "metadata": {},
   "outputs": [],
   "source": []
  },
  {
   "cell_type": "code",
   "execution_count": 125,
   "metadata": {},
   "outputs": [
    {
     "data": {
      "text/plain": [
       "266.4883002788656"
      ]
     },
     "execution_count": 125,
     "metadata": {},
     "output_type": "execute_result"
    }
   ],
   "source": [
    "desired_pitch_from_wvl_light(460)"
   ]
  },
  {
   "cell_type": "code",
   "execution_count": 28,
   "metadata": {},
   "outputs": [],
   "source": [
    "\n",
    "\n",
    "EM_wvl_m_1 = wvl_1 * 1e-9\n",
    "EM_wvl_m_2 = wvl_2 * 1e-9\n",
    "EM_wvl_m_3 = wvl_3 * 1e-9\n",
    "\n",
    "EM_freq_1 = c_light_mps / EM_wvl_m_1\n",
    "EM_freq_2 = c_light_mps / EM_wvl_m_2\n",
    "EM_freq_3 = c_light_mps / EM_wvl_m_3\n",
    "\n",
    "pitch_freq_1 = m * EM_freq_1 + b\n",
    "pitch_freq_2 = m * EM_freq_2 + b\n",
    "pitch_freq_3 = m * EM_freq_3 + b\n",
    "\n",
    "\n"
   ]
  },
  {
   "cell_type": "code",
   "execution_count": 79,
   "metadata": {},
   "outputs": [
    {
     "data": {
      "text/plain": [
       "[12222.404809437383,\n",
       " 10955.920775862065,\n",
       " 9810.054269293923,\n",
       " 8768.357445141064,\n",
       " 7817.242953523237,\n",
       " 6945.388002873562,\n",
       " 6143.281448275859,\n",
       " 5402.875397877986,\n",
       " 4717.314240102172,\n",
       " 4080.7217364532007,\n",
       " 3488.0321640903676,\n",
       " 2934.855229885059,\n",
       " 2417.3671301446084,\n",
       " 1932.2220366379333,\n",
       " 1476.479676071056,\n",
       " 1047.545689655175,\n",
       " 643.1222167487686,\n",
       " 261.1667145593874,\n",
       " -100.14254426840307,\n",
       " -442.4355263157886,\n",
       " -767.1750221043294]"
      ]
     },
     "execution_count": 79,
     "metadata": {},
     "output_type": "execute_result"
    }
   ],
   "source": [
    "[em_wvl_nm_to_pitch_hz(wvl) for wvl in range(380, 800, 20)]"
   ]
  },
  {
   "cell_type": "code",
   "execution_count": 173,
   "metadata": {},
   "outputs": [
    {
     "data": {
      "text/plain": [
       "[0.0,\n",
       " 0.7411344491069477,\n",
       " 0.7943282347242815,\n",
       " 0.8271973337231157,\n",
       " 0.8513399225207846,\n",
       " 0.8705505632961241,\n",
       " 0.8865681505652133,\n",
       " 0.9003405372962772,\n",
       " 0.9124435365554808,\n",
       " 0.9232541136674268,\n",
       " 0.9330329915368074,\n",
       " 0.9419682592138262,\n",
       " 0.9502002165056764,\n",
       " 0.9578363965785066,\n",
       " 0.9649610951198176,\n",
       " 0.9716416578630735,\n",
       " 0.9779327685429285,\n",
       " 0.9838794565405263,\n",
       " 0.9895192582062144,\n",
       " 0.9948838031081763]"
      ]
     },
     "execution_count": 173,
     "metadata": {},
     "output_type": "execute_result"
    }
   ],
   "source": [
    "[a**.1 for a in np.arange(0,1,0.05)]"
   ]
  },
  {
   "cell_type": "code",
   "execution_count": 25,
   "metadata": {},
   "outputs": [],
   "source": []
  },
  {
   "cell_type": "code",
   "execution_count": null,
   "metadata": {},
   "outputs": [],
   "source": []
  },
  {
   "cell_type": "code",
   "execution_count": null,
   "metadata": {},
   "outputs": [],
   "source": []
  },
  {
   "cell_type": "code",
   "execution_count": null,
   "metadata": {},
   "outputs": [],
   "source": []
  },
  {
   "cell_type": "code",
   "execution_count": null,
   "metadata": {},
   "outputs": [],
   "source": []
  }
 ],
 "metadata": {
  "@webio": {
   "lastCommId": null,
   "lastKernelId": null
  },
  "kernelspec": {
   "display_name": "Python 3",
   "language": "python",
   "name": "python3"
  },
  "language_info": {
   "codemirror_mode": {
    "name": "ipython",
    "version": 3
   },
   "file_extension": ".py",
   "mimetype": "text/x-python",
   "name": "python",
   "nbconvert_exporter": "python",
   "pygments_lexer": "ipython3",
   "version": "3.7.3"
  }
 },
 "nbformat": 4,
 "nbformat_minor": 4
}
