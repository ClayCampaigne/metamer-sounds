{
 "cells": [
  {
   "cell_type": "code",
   "execution_count": null,
   "metadata": {},
   "outputs": [],
   "source": [
    "import pandas as pd\n",
    "import matplotlib.pyplot as plt\n",
    "from ipywidgets import widgets, interactive, VBox, HBox\n",
    "from IPython.display import Audio, display\n",
    "import numpy as np"
   ]
  },
  {
   "cell_type": "code",
   "execution_count": null,
   "metadata": {},
   "outputs": [],
   "source": [
    "from metamer_sounds import tritone_metamers_cm"
   ]
  },
  {
   "cell_type": "markdown",
   "metadata": {},
   "source": [
    "## Metamer Sounds: Hearing the Difference Between Colors\n",
    "\n",
    "This interactive widget lets you explore color metamers by mapping light wavelengths to audio frequencies. Metamers are different spectral distributions that appear as the same color but would sound different when converted to audio.\n",
    "\n",
    "**Controls:**\n",
    "- **wvl_1, wvl_2, wvl_3**: Wavelengths in nanometers (381-779 nm visible spectrum)\n",
    "- **a1, a2, a3**: Amplitudes/intensities for each wavelength\n",
    "- **Scaling method**: Choose between scientific (physics-based) or simple (audibly pleasant) wavelength-to-frequency mapping"
   ]
  },
  {
   "cell_type": "code",
   "execution_count": null,
   "metadata": {},
   "outputs": [],
   "source": [
    "# Create the interactive widget with scaling method selector\n",
    "scaling_widget = widgets.RadioButtons(\n",
    "    options=[('Simple (sounds better)', 'simple'), ('Scientific (physics-based)', 'scientific')],\n",
    "    value='simple',\n",
    "    description='Scaling:',\n",
    "    disabled=False\n",
    ")\n",
    "\n",
    "# Create the main interactive widget\n",
    "main_widget = interactive(tritone_metamers_cm, \n",
    "                         wvl_1=(381.0, 779.0, 2), \n",
    "                         wvl_2=(381.0, 779.0, 2), \n",
    "                         wvl_3=(381.0, 779.0, 2), \n",
    "                         a1=(0.0, 1.0, 0.05),\n",
    "                         a2=(0.0, 1.0, 0.05), \n",
    "                         a3=(0.0, 1.0, 0.05),\n",
    "                         scaling=scaling_widget)\n",
    "\n",
    "# Display the complete interface\n",
    "display(main_widget)"
   ]
  },
  {
   "cell_type": "markdown",
   "metadata": {},
   "source": [
    "### About the Scaling Methods\n",
    "\n",
    "- **Simple scaling**: Uses a linear mapping (slope = -1) that produces more audibly pleasant results\n",
    "- **Scientific scaling**: Maps light and sound wavelengths proportionally based on physics, creating an \"affine increasing bijection between the full perceptible frequency domains\"\n",
    "\n",
    "The Venn diagram shows how the three wavelengths combine to create different colors, while the audio plays the corresponding mapped frequencies simultaneously."
   ]
  },
  {
   "cell_type": "code",
   "execution_count": null,
   "metadata": {},
   "outputs": [],
   "source": []
  }
 ],
 "metadata": {
  "kernelspec": {
   "display_name": "Python 3",
   "language": "python",
   "name": "python3"
  },
  "language_info": {
   "codemirror_mode": {
    "name": "ipython",
    "version": 3
   },
   "file_extension": ".py",
   "mimetype": "text/x-python",
   "name": "python",
   "nbconvert_exporter": "python",
   "pygments_lexer": "ipython3",
   "version": "3.10.0"
  }
 },
 "nbformat": 4,
 "nbformat_minor": 4
}