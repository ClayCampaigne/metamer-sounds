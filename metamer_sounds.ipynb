{
 "cells": [
  {
   "cell_type": "code",
   "execution_count": null,
   "metadata": {},
   "outputs": [],
   "source": [
    "import pandas as pd\n",
    "import matplotlib.pyplot as plt\n",
    "from ipywidgets import widgets, interactive, VBox, HBox\n",
    "from IPython.display import Audio, display\n",
    "import numpy as np"
   ]
  },
  {
   "cell_type": "code",
   "execution_count": null,
   "metadata": {},
   "outputs": [],
   "source": [
    "from metamer_sounds import tritone_metamers_cm"
   ]
  },
  {
   "cell_type": "markdown",
   "metadata": {},
   "source": "## Metamer Sounds: Hearing the Difference Between Colors\n\nThis interactive widget lets you explore color metamers by mapping light wavelengths to audio frequencies. Metamers are different spectral distributions that appear as the same color but would sound different when converted to audio.\n\nAdjust the wavelengths (381-779 nm visible spectrum) and amplitudes to explore different color-sound combinations. Choose between scientific (physics-based) or simple (audibly pleasant) scaling methods."
  },
  {
   "cell_type": "code",
   "execution_count": null,
   "metadata": {},
   "outputs": [],
   "source": "# Create individual slider widgets with readable labels\nwvl_1_slider = widgets.FloatSlider(\n    value=460, min=381.0, max=779.0, step=2,\n    description='Wavelength 1 (nm):',\n    style={'description_width': '150px'}\n)\nwvl_2_slider = widgets.FloatSlider(\n    value=530, min=381.0, max=779.0, step=2,\n    description='Wavelength 2 (nm):',\n    style={'description_width': '150px'}\n)\nwvl_3_slider = widgets.FloatSlider(\n    value=610.6, min=381.0, max=779.0, step=2,\n    description='Wavelength 3 (nm):',\n    style={'description_width': '150px'}\n)\na1_slider = widgets.FloatSlider(\n    value=0.75, min=0.0, max=1.0, step=0.05,\n    description='Amplitude 1:',\n    style={'description_width': '150px'}\n)\na2_slider = widgets.FloatSlider(\n    value=0.85, min=0.0, max=1.0, step=0.05,\n    description='Amplitude 2:',\n    style={'description_width': '150px'}\n)\na3_slider = widgets.FloatSlider(\n    value=0.85, min=0.0, max=1.0, step=0.05,\n    description='Amplitude 3:',\n    style={'description_width': '150px'}\n)\n\n# Create the scaling method selector\nscaling_widget = widgets.RadioButtons(\n    options=[('Simple (sounds better)', 'simple'), ('Scientific (physics-based)', 'scientific')],\n    value='simple',\n    description='Scaling method:',\n    style={'description_width': '150px'}\n)\n\n# Organize sliders in two columns\nwavelength_column = VBox([wvl_1_slider, wvl_2_slider, wvl_3_slider])\namplitude_column = VBox([a1_slider, a2_slider, a3_slider])\nslider_layout = HBox([wavelength_column, amplitude_column])\n\n# Create output widget for the interactive display\noutput = widgets.interactive_output(tritone_metamers_cm, {\n    'wvl_1': wvl_1_slider,\n    'wvl_2': wvl_2_slider,\n    'wvl_3': wvl_3_slider,\n    'a1': a1_slider,\n    'a2': a2_slider,\n    'a3': a3_slider,\n    'scaling': scaling_widget\n})\n\n# Display the complete interface\ndisplay(VBox([slider_layout, scaling_widget, output]))"
  },
  {
   "cell_type": "markdown",
   "metadata": {},
   "source": "### About the Scaling Methods\n\n- **Simple scaling**: Maps light wavelength directly to audio frequency using a linear function (higher light wavelength → lower audio frequency). Produces more pleasant-sounding results.\n- **Scientific scaling**: Maps light wavelengths to sound wavelengths proportionally, preserving the ratio between the visible spectrum range (381-779 nm) and the audible wavelength range. Then converts sound wavelength to frequency.\n\nThe Venn diagram shows how the three wavelengths combine to create different colors, while the audio plays the corresponding mapped frequencies simultaneously."
  },
  {
   "cell_type": "code",
   "execution_count": null,
   "metadata": {},
   "outputs": [],
   "source": []
  }
 ],
 "metadata": {
  "kernelspec": {
   "display_name": "Python 3",
   "language": "python",
   "name": "python3"
  },
  "language_info": {
   "codemirror_mode": {
    "name": "ipython",
    "version": 3
   },
   "file_extension": ".py",
   "mimetype": "text/x-python",
   "name": "python",
   "nbconvert_exporter": "python",
   "pygments_lexer": "ipython3",
   "version": "3.10.0"
  }
 },
 "nbformat": 4,
 "nbformat_minor": 4
}