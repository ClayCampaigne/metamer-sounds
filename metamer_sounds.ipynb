{
 "cells": [
  {
   "cell_type": "code",
   "execution_count": null,
   "metadata": {},
   "outputs": [],
   "source": [
    "import pandas as pd\n",
    "import matplotlib.pyplot as plt\n",
    "from ipywidgets import widgets, interactive, VBox, HBox\n",
    "from IPython.display import Audio, display\n",
    "import numpy as np"
   ]
  },
  {
   "cell_type": "code",
   "execution_count": null,
   "metadata": {},
   "outputs": [],
   "source": [
    "from metamer_sounds import tritone_metamers_cm"
   ]
  },
  {
   "cell_type": "markdown",
   "metadata": {},
   "source": [
    "## Metamer Sounds: Hearing the Difference Between Colors\n",
    "\n",
    "This interactive widget lets you explore color metamers by mapping light wavelengths to audio frequencies. Metamers are different spectral distributions that appear as the same color but would sound different when converted to audio.\n",
    "\n",
    "**Controls:**\n",
    "- **wvl_1, wvl_2, wvl_3**: Wavelengths in nanometers (381-779 nm visible spectrum)\n",
    "- **a1, a2, a3**: Amplitudes/intensities for each wavelength\n",
    "- **Scaling method**: Choose between scientific (physics-based) or simple (audibly pleasant) wavelength-to-frequency mapping"
   ]
  },
  {
   "cell_type": "code",
   "execution_count": null,
   "metadata": {},
   "outputs": [],
   "source": "# Create individual slider widgets with readable labels\nwvl_1_slider = widgets.FloatSlider(\n    value=460, min=381.0, max=779.0, step=2,\n    description='Wavelength 1 (nm):',\n    style={'description_width': '150px'}\n)\nwvl_2_slider = widgets.FloatSlider(\n    value=530, min=381.0, max=779.0, step=2,\n    description='Wavelength 2 (nm):',\n    style={'description_width': '150px'}\n)\nwvl_3_slider = widgets.FloatSlider(\n    value=610.6, min=381.0, max=779.0, step=2,\n    description='Wavelength 3 (nm):',\n    style={'description_width': '150px'}\n)\na1_slider = widgets.FloatSlider(\n    value=0.75, min=0.0, max=1.0, step=0.05,\n    description='Amplitude 1:',\n    style={'description_width': '150px'}\n)\na2_slider = widgets.FloatSlider(\n    value=0.85, min=0.0, max=1.0, step=0.05,\n    description='Amplitude 2:',\n    style={'description_width': '150px'}\n)\na3_slider = widgets.FloatSlider(\n    value=0.85, min=0.0, max=1.0, step=0.05,\n    description='Amplitude 3:',\n    style={'description_width': '150px'}\n)\n\n# Create the scaling method selector\nscaling_widget = widgets.RadioButtons(\n    options=[('Simple (sounds better)', 'simple'), ('Scientific (physics-based)', 'scientific')],\n    value='simple',\n    description='Scaling method:',\n    style={'description_width': '150px'}\n)\n\n# Create the main interactive widget\nmain_widget = interactive(tritone_metamers_cm,\n                         wvl_1=wvl_1_slider,\n                         wvl_2=wvl_2_slider,\n                         wvl_3=wvl_3_slider,\n                         a1=a1_slider,\n                         a2=a2_slider,\n                         a3=a3_slider,\n                         scaling=scaling_widget)\n\n# Display the complete interface\ndisplay(main_widget)"
  },
  {
   "cell_type": "markdown",
   "metadata": {},
   "source": [
    "### About the Scaling Methods\n",
    "\n",
    "- **Simple scaling**: Uses a linear mapping (slope = -1) that produces more audibly pleasant results\n",
    "- **Scientific scaling**: Maps light and sound wavelengths proportionally based on physics, creating an \"affine increasing bijection between the full perceptible frequency domains\"\n",
    "\n",
    "The Venn diagram shows how the three wavelengths combine to create different colors, while the audio plays the corresponding mapped frequencies simultaneously."
   ]
  },
  {
   "cell_type": "code",
   "execution_count": null,
   "metadata": {},
   "outputs": [],
   "source": []
  }
 ],
 "metadata": {
  "kernelspec": {
   "display_name": "Python 3",
   "language": "python",
   "name": "python3"
  },
  "language_info": {
   "codemirror_mode": {
    "name": "ipython",
    "version": 3
   },
   "file_extension": ".py",
   "mimetype": "text/x-python",
   "name": "python",
   "nbconvert_exporter": "python",
   "pygments_lexer": "ipython3",
   "version": "3.10.0"
  }
 },
 "nbformat": 4,
 "nbformat_minor": 4
}