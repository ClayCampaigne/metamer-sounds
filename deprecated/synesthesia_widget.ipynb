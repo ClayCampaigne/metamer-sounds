{
 "cells": [
  {
   "cell_type": "code",
   "execution_count": 1,
   "metadata": {},
   "outputs": [],
   "source": [
    "import pandas as pd\n",
    "from bqplot import pyplot as bqplt\n",
    "import matplotlib.pyplot as plt\n",
    "from ipywidgets import widgets\n",
    "from ipywidgets import widgets as w\n",
    "from bqplot import LinearScale, DateScale, Axis, Lines, Figure, Tooltip, Scatter\n",
    "import bqplot"
   ]
  },
  {
   "cell_type": "markdown",
   "metadata": {},
   "source": [
    "Synesthesia "
   ]
  },
  {
   "cell_type": "markdown",
   "metadata": {},
   "source": [
    "https://scipython.com/blog/converting-a-spectrum-to-a-colour/\n",
    "\n",
    "https://ipywidgets.readthedocs.io/en/stable/examples/Beat%20Frequencies.html\n",
    "\n",
    "https://stackoverflow.com/questions/52547769/how-can-i-layout-a-list-of-ipython-display-audio-objects-in-a-jupyter-notebook/57825569"
   ]
  },
  {
   "cell_type": "code",
   "execution_count": 2,
   "metadata": {},
   "outputs": [],
   "source": [
    "import matplotlib.pyplot as plt\n",
    "from matplotlib.patches import Circle"
   ]
  },
  {
   "cell_type": "code",
   "execution_count": 3,
   "metadata": {},
   "outputs": [],
   "source": [
    "from colour_system import ColourSystem, illuminant_D65, cs_hdtv, cs_smpte, cs_srgb, get_spec"
   ]
  },
  {
   "cell_type": "code",
   "execution_count": 4,
   "metadata": {},
   "outputs": [],
   "source": [
    "from ipywidgets import interactive\n",
    "import ipywidgets as widgets\n",
    "from IPython.display import Audio, display\n",
    "import numpy as np"
   ]
  },
  {
   "cell_type": "code",
   "execution_count": 5,
   "metadata": {},
   "outputs": [],
   "source": [
    "def beat_freq(f1=220.0, a1=0.5, f2=224.0, a2 =0.5):\n",
    "    max_time = 20\n",
    "    rate = 8000\n",
    "    times = np.linspace(0,max_time,rate*max_time)\n",
    "    signal = a1*np.sin(2*np.pi*f1*times) + a2*np.sin(2*np.pi*f2*times)\n",
    "    display(Audio(data=signal, rate=rate,autoplay=True, normalize=False))\n",
    "    return signal"
   ]
  },
  {
   "cell_type": "code",
   "execution_count": 6,
   "metadata": {},
   "outputs": [],
   "source": [
    "f1_w = widgets.FloatSlider(min = 380.0, max=780.0, step=1.0, value=400.0, continuous_update=False)\n",
    "f2_w = widgets.FloatSlider(min = 380.0, max=780.0, step=1.0, value=450.0, continuous_update=False)\n",
    "a1_w = widgets.FloatSlider(min = 0.1, max=2.0, step=0.1, value=1.0, continuous_update=False)\n",
    "a2_w = widgets.FloatSlider(min = 0.1, max=2.0, step=0.1, value=1.0, continuous_update=False)\n",
    "\n",
    "# def update_outputs(d):\n",
    "#     \"\"\"update the plot and the audio widget\"\"\"\n",
    "#     signal = beat_freq(f1_w.value, a1_w.value, f2_w.value,  a2_w.value)\n",
    "#     make_beat_freq_widget()\n",
    "\n",
    "# f1_w.observe(update_outputs)\n",
    "# f2_w.observe(update_outputs)\n",
    "# a1_w.observe(update_outputs)\n",
    "# a2_w.observe(update_outputs)"
   ]
  },
  {
   "cell_type": "code",
   "execution_count": 7,
   "metadata": {},
   "outputs": [
    {
     "data": {
      "application/vnd.jupyter.widget-view+json": {
       "model_id": "080c0715b77244deac4b55ea0666853b",
       "version_major": 2,
       "version_minor": 0
      },
      "text/plain": [
       "VBox(children=(HBox(children=(Label(value='f1'), FloatSlider(value=400.0, continuous_update=False, max=780.0, …"
      ]
     },
     "metadata": {},
     "output_type": "display_data"
    }
   ],
   "source": [
    "w.VBox([w.HBox([w.Label(\"f1\"), f1_w]), \n",
    "        w.HBox([w.Label(\"f2\"), f2_w]),\n",
    "        w.HBox([w.Label(\"a1\"), a1_w]), \n",
    "        w.HBox([w.Label(\"a2\"), a2_w])])"
   ]
  },
  {
   "cell_type": "code",
   "execution_count": 8,
   "metadata": {},
   "outputs": [
    {
     "ename": "ValueError",
     "evalue": "Audio data must be between -1 and 1 when normalize=False.",
     "output_type": "error",
     "traceback": [
      "\u001b[0;31m---------------------------------------------------------------------------\u001b[0m",
      "\u001b[0;31mValueError\u001b[0m                                Traceback (most recent call last)",
      "\u001b[0;32m<ipython-input-8-cf79d53aea6a>\u001b[0m in \u001b[0;36m<module>\u001b[0;34m\u001b[0m\n\u001b[1;32m      1\u001b[0m \u001b[0mcs\u001b[0m \u001b[0;34m=\u001b[0m \u001b[0mcs_hdtv\u001b[0m\u001b[0;34m\u001b[0m\u001b[0;34m\u001b[0m\u001b[0m\n\u001b[0;32m----> 2\u001b[0;31m \u001b[0msig\u001b[0m \u001b[0;34m=\u001b[0m \u001b[0mbeat_freq\u001b[0m\u001b[0;34m(\u001b[0m\u001b[0mf1\u001b[0m\u001b[0;34m=\u001b[0m\u001b[0mf1_w\u001b[0m\u001b[0;34m.\u001b[0m\u001b[0mvalue\u001b[0m\u001b[0;34m,\u001b[0m \u001b[0ma1\u001b[0m\u001b[0;34m=\u001b[0m\u001b[0ma1_w\u001b[0m\u001b[0;34m.\u001b[0m\u001b[0mvalue\u001b[0m\u001b[0;34m,\u001b[0m \u001b[0mf2\u001b[0m\u001b[0;34m=\u001b[0m\u001b[0mf2_w\u001b[0m\u001b[0;34m.\u001b[0m\u001b[0mvalue\u001b[0m\u001b[0;34m,\u001b[0m  \u001b[0ma2\u001b[0m \u001b[0;34m=\u001b[0m\u001b[0ma2_w\u001b[0m\u001b[0;34m.\u001b[0m\u001b[0mvalue\u001b[0m\u001b[0;34m)\u001b[0m\u001b[0;34m\u001b[0m\u001b[0;34m\u001b[0m\u001b[0m\n\u001b[0m\u001b[1;32m      3\u001b[0m \u001b[0;34m(\u001b[0m\u001b[0mf1\u001b[0m\u001b[0;34m,\u001b[0m \u001b[0ma1\u001b[0m\u001b[0;34m,\u001b[0m \u001b[0mf2\u001b[0m\u001b[0;34m,\u001b[0m \u001b[0ma2\u001b[0m\u001b[0;34m)\u001b[0m \u001b[0;34m=\u001b[0m \u001b[0;34m(\u001b[0m\u001b[0mf1_w\u001b[0m\u001b[0;34m.\u001b[0m\u001b[0mvalue\u001b[0m\u001b[0;34m,\u001b[0m \u001b[0ma1_w\u001b[0m\u001b[0;34m.\u001b[0m\u001b[0mvalue\u001b[0m\u001b[0;34m*\u001b[0m\u001b[0;36m7e14\u001b[0m\u001b[0;34m,\u001b[0m \u001b[0mf2_w\u001b[0m\u001b[0;34m.\u001b[0m\u001b[0mvalue\u001b[0m\u001b[0;34m,\u001b[0m \u001b[0ma2_w\u001b[0m\u001b[0;34m.\u001b[0m\u001b[0mvalue\u001b[0m\u001b[0;34m*\u001b[0m\u001b[0;36m7e14\u001b[0m\u001b[0;34m)\u001b[0m\u001b[0;34m\u001b[0m\u001b[0;34m\u001b[0m\u001b[0m\n\u001b[1;32m      4\u001b[0m \u001b[0mspec\u001b[0m \u001b[0;34m=\u001b[0m \u001b[0mget_spec\u001b[0m\u001b[0;34m(\u001b[0m\u001b[0mf1\u001b[0m\u001b[0;34m,\u001b[0m \u001b[0ma1\u001b[0m\u001b[0;34m,\u001b[0m \u001b[0mf2\u001b[0m\u001b[0;34m,\u001b[0m \u001b[0ma2\u001b[0m\u001b[0;34m)\u001b[0m\u001b[0;34m.\u001b[0m\u001b[0mvalues\u001b[0m\u001b[0;34m\u001b[0m\u001b[0;34m\u001b[0m\u001b[0m\n\u001b[1;32m      5\u001b[0m \u001b[0mfig\u001b[0m\u001b[0;34m,\u001b[0m \u001b[0max\u001b[0m \u001b[0;34m=\u001b[0m \u001b[0mplt\u001b[0m\u001b[0;34m.\u001b[0m\u001b[0msubplots\u001b[0m\u001b[0;34m(\u001b[0m\u001b[0;34m)\u001b[0m\u001b[0;34m\u001b[0m\u001b[0;34m\u001b[0m\u001b[0m\n",
      "\u001b[0;32m<ipython-input-5-f42fc8902eef>\u001b[0m in \u001b[0;36mbeat_freq\u001b[0;34m(f1, a1, f2, a2)\u001b[0m\n\u001b[1;32m      4\u001b[0m     \u001b[0mtimes\u001b[0m \u001b[0;34m=\u001b[0m \u001b[0mnp\u001b[0m\u001b[0;34m.\u001b[0m\u001b[0mlinspace\u001b[0m\u001b[0;34m(\u001b[0m\u001b[0;36m0\u001b[0m\u001b[0;34m,\u001b[0m\u001b[0mmax_time\u001b[0m\u001b[0;34m,\u001b[0m\u001b[0mrate\u001b[0m\u001b[0;34m*\u001b[0m\u001b[0mmax_time\u001b[0m\u001b[0;34m)\u001b[0m\u001b[0;34m\u001b[0m\u001b[0;34m\u001b[0m\u001b[0m\n\u001b[1;32m      5\u001b[0m     \u001b[0msignal\u001b[0m \u001b[0;34m=\u001b[0m \u001b[0ma1\u001b[0m\u001b[0;34m*\u001b[0m\u001b[0mnp\u001b[0m\u001b[0;34m.\u001b[0m\u001b[0msin\u001b[0m\u001b[0;34m(\u001b[0m\u001b[0;36m2\u001b[0m\u001b[0;34m*\u001b[0m\u001b[0mnp\u001b[0m\u001b[0;34m.\u001b[0m\u001b[0mpi\u001b[0m\u001b[0;34m*\u001b[0m\u001b[0mf1\u001b[0m\u001b[0;34m*\u001b[0m\u001b[0mtimes\u001b[0m\u001b[0;34m)\u001b[0m \u001b[0;34m+\u001b[0m \u001b[0ma2\u001b[0m\u001b[0;34m*\u001b[0m\u001b[0mnp\u001b[0m\u001b[0;34m.\u001b[0m\u001b[0msin\u001b[0m\u001b[0;34m(\u001b[0m\u001b[0;36m2\u001b[0m\u001b[0;34m*\u001b[0m\u001b[0mnp\u001b[0m\u001b[0;34m.\u001b[0m\u001b[0mpi\u001b[0m\u001b[0;34m*\u001b[0m\u001b[0mf2\u001b[0m\u001b[0;34m*\u001b[0m\u001b[0mtimes\u001b[0m\u001b[0;34m)\u001b[0m\u001b[0;34m\u001b[0m\u001b[0;34m\u001b[0m\u001b[0m\n\u001b[0;32m----> 6\u001b[0;31m     \u001b[0mdisplay\u001b[0m\u001b[0;34m(\u001b[0m\u001b[0mAudio\u001b[0m\u001b[0;34m(\u001b[0m\u001b[0mdata\u001b[0m\u001b[0;34m=\u001b[0m\u001b[0msignal\u001b[0m\u001b[0;34m,\u001b[0m \u001b[0mrate\u001b[0m\u001b[0;34m=\u001b[0m\u001b[0mrate\u001b[0m\u001b[0;34m,\u001b[0m\u001b[0mautoplay\u001b[0m\u001b[0;34m=\u001b[0m\u001b[0;32mTrue\u001b[0m\u001b[0;34m,\u001b[0m \u001b[0mnormalize\u001b[0m\u001b[0;34m=\u001b[0m\u001b[0;32mFalse\u001b[0m\u001b[0;34m)\u001b[0m\u001b[0;34m)\u001b[0m\u001b[0;34m\u001b[0m\u001b[0;34m\u001b[0m\u001b[0m\n\u001b[0m\u001b[1;32m      7\u001b[0m     \u001b[0;32mreturn\u001b[0m \u001b[0msignal\u001b[0m\u001b[0;34m\u001b[0m\u001b[0;34m\u001b[0m\u001b[0m\n",
      "\u001b[0;32m~/anaconda3/envs/synesthesia/lib/python3.7/site-packages/IPython/lib/display.py\u001b[0m in \u001b[0;36m__init__\u001b[0;34m(self, data, filename, url, embed, rate, autoplay, normalize, element_id)\u001b[0m\n\u001b[1;32m    113\u001b[0m             \u001b[0;32mif\u001b[0m \u001b[0mrate\u001b[0m \u001b[0;32mis\u001b[0m \u001b[0;32mNone\u001b[0m\u001b[0;34m:\u001b[0m\u001b[0;34m\u001b[0m\u001b[0;34m\u001b[0m\u001b[0m\n\u001b[1;32m    114\u001b[0m                 \u001b[0;32mraise\u001b[0m \u001b[0mValueError\u001b[0m\u001b[0;34m(\u001b[0m\u001b[0;34m\"rate must be specified when data is a numpy array or list of audio samples.\"\u001b[0m\u001b[0;34m)\u001b[0m\u001b[0;34m\u001b[0m\u001b[0;34m\u001b[0m\u001b[0m\n\u001b[0;32m--> 115\u001b[0;31m             \u001b[0mself\u001b[0m\u001b[0;34m.\u001b[0m\u001b[0mdata\u001b[0m \u001b[0;34m=\u001b[0m \u001b[0mAudio\u001b[0m\u001b[0;34m.\u001b[0m\u001b[0m_make_wav\u001b[0m\u001b[0;34m(\u001b[0m\u001b[0mdata\u001b[0m\u001b[0;34m,\u001b[0m \u001b[0mrate\u001b[0m\u001b[0;34m,\u001b[0m \u001b[0mnormalize\u001b[0m\u001b[0;34m)\u001b[0m\u001b[0;34m\u001b[0m\u001b[0;34m\u001b[0m\u001b[0m\n\u001b[0m\u001b[1;32m    116\u001b[0m \u001b[0;34m\u001b[0m\u001b[0m\n\u001b[1;32m    117\u001b[0m     \u001b[0;32mdef\u001b[0m \u001b[0mreload\u001b[0m\u001b[0;34m(\u001b[0m\u001b[0mself\u001b[0m\u001b[0;34m)\u001b[0m\u001b[0;34m:\u001b[0m\u001b[0;34m\u001b[0m\u001b[0;34m\u001b[0m\u001b[0m\n",
      "\u001b[0;32m~/anaconda3/envs/synesthesia/lib/python3.7/site-packages/IPython/lib/display.py\u001b[0m in \u001b[0;36m_make_wav\u001b[0;34m(data, rate, normalize)\u001b[0m\n\u001b[1;32m    135\u001b[0m \u001b[0;34m\u001b[0m\u001b[0m\n\u001b[1;32m    136\u001b[0m         \u001b[0;32mtry\u001b[0m\u001b[0;34m:\u001b[0m\u001b[0;34m\u001b[0m\u001b[0;34m\u001b[0m\u001b[0m\n\u001b[0;32m--> 137\u001b[0;31m             \u001b[0mscaled\u001b[0m\u001b[0;34m,\u001b[0m \u001b[0mnchan\u001b[0m \u001b[0;34m=\u001b[0m \u001b[0mAudio\u001b[0m\u001b[0;34m.\u001b[0m\u001b[0m_validate_and_normalize_with_numpy\u001b[0m\u001b[0;34m(\u001b[0m\u001b[0mdata\u001b[0m\u001b[0;34m,\u001b[0m \u001b[0mnormalize\u001b[0m\u001b[0;34m)\u001b[0m\u001b[0;34m\u001b[0m\u001b[0;34m\u001b[0m\u001b[0m\n\u001b[0m\u001b[1;32m    138\u001b[0m         \u001b[0;32mexcept\u001b[0m \u001b[0mImportError\u001b[0m\u001b[0;34m:\u001b[0m\u001b[0;34m\u001b[0m\u001b[0;34m\u001b[0m\u001b[0m\n\u001b[1;32m    139\u001b[0m             \u001b[0mscaled\u001b[0m\u001b[0;34m,\u001b[0m \u001b[0mnchan\u001b[0m \u001b[0;34m=\u001b[0m \u001b[0mAudio\u001b[0m\u001b[0;34m.\u001b[0m\u001b[0m_validate_and_normalize_without_numpy\u001b[0m\u001b[0;34m(\u001b[0m\u001b[0mdata\u001b[0m\u001b[0;34m,\u001b[0m \u001b[0mnormalize\u001b[0m\u001b[0;34m)\u001b[0m\u001b[0;34m\u001b[0m\u001b[0;34m\u001b[0m\u001b[0m\n",
      "\u001b[0;32m~/anaconda3/envs/synesthesia/lib/python3.7/site-packages/IPython/lib/display.py\u001b[0m in \u001b[0;36m_validate_and_normalize_with_numpy\u001b[0;34m(data, normalize)\u001b[0m\n\u001b[1;32m    169\u001b[0m \u001b[0;34m\u001b[0m\u001b[0m\n\u001b[1;32m    170\u001b[0m         \u001b[0mmax_abs_value\u001b[0m \u001b[0;34m=\u001b[0m \u001b[0mnp\u001b[0m\u001b[0;34m.\u001b[0m\u001b[0mmax\u001b[0m\u001b[0;34m(\u001b[0m\u001b[0mnp\u001b[0m\u001b[0;34m.\u001b[0m\u001b[0mabs\u001b[0m\u001b[0;34m(\u001b[0m\u001b[0mdata\u001b[0m\u001b[0;34m)\u001b[0m\u001b[0;34m)\u001b[0m\u001b[0;34m\u001b[0m\u001b[0;34m\u001b[0m\u001b[0m\n\u001b[0;32m--> 171\u001b[0;31m         \u001b[0mnormalization_factor\u001b[0m \u001b[0;34m=\u001b[0m \u001b[0mAudio\u001b[0m\u001b[0;34m.\u001b[0m\u001b[0m_get_normalization_factor\u001b[0m\u001b[0;34m(\u001b[0m\u001b[0mmax_abs_value\u001b[0m\u001b[0;34m,\u001b[0m \u001b[0mnormalize\u001b[0m\u001b[0;34m)\u001b[0m\u001b[0;34m\u001b[0m\u001b[0;34m\u001b[0m\u001b[0m\n\u001b[0m\u001b[1;32m    172\u001b[0m         \u001b[0mscaled\u001b[0m \u001b[0;34m=\u001b[0m \u001b[0mdata\u001b[0m \u001b[0;34m/\u001b[0m \u001b[0mnormalization_factor\u001b[0m \u001b[0;34m*\u001b[0m \u001b[0;36m32767\u001b[0m\u001b[0;34m\u001b[0m\u001b[0;34m\u001b[0m\u001b[0m\n\u001b[1;32m    173\u001b[0m         \u001b[0;32mreturn\u001b[0m \u001b[0mscaled\u001b[0m\u001b[0;34m.\u001b[0m\u001b[0mastype\u001b[0m\u001b[0;34m(\u001b[0m\u001b[0;34m'<h'\u001b[0m\u001b[0;34m)\u001b[0m\u001b[0;34m.\u001b[0m\u001b[0mtostring\u001b[0m\u001b[0;34m(\u001b[0m\u001b[0;34m)\u001b[0m\u001b[0;34m,\u001b[0m \u001b[0mnchan\u001b[0m\u001b[0;34m\u001b[0m\u001b[0;34m\u001b[0m\u001b[0m\n",
      "\u001b[0;32m~/anaconda3/envs/synesthesia/lib/python3.7/site-packages/IPython/lib/display.py\u001b[0m in \u001b[0;36m_get_normalization_factor\u001b[0;34m(max_abs_value, normalize)\u001b[0m\n\u001b[1;32m    197\u001b[0m     \u001b[0;32mdef\u001b[0m \u001b[0m_get_normalization_factor\u001b[0m\u001b[0;34m(\u001b[0m\u001b[0mmax_abs_value\u001b[0m\u001b[0;34m,\u001b[0m \u001b[0mnormalize\u001b[0m\u001b[0;34m)\u001b[0m\u001b[0;34m:\u001b[0m\u001b[0;34m\u001b[0m\u001b[0;34m\u001b[0m\u001b[0m\n\u001b[1;32m    198\u001b[0m         \u001b[0;32mif\u001b[0m \u001b[0;32mnot\u001b[0m \u001b[0mnormalize\u001b[0m \u001b[0;32mand\u001b[0m \u001b[0mmax_abs_value\u001b[0m \u001b[0;34m>\u001b[0m \u001b[0;36m1\u001b[0m\u001b[0;34m:\u001b[0m\u001b[0;34m\u001b[0m\u001b[0;34m\u001b[0m\u001b[0m\n\u001b[0;32m--> 199\u001b[0;31m             \u001b[0;32mraise\u001b[0m \u001b[0mValueError\u001b[0m\u001b[0;34m(\u001b[0m\u001b[0;34m'Audio data must be between -1 and 1 when normalize=False.'\u001b[0m\u001b[0;34m)\u001b[0m\u001b[0;34m\u001b[0m\u001b[0;34m\u001b[0m\u001b[0m\n\u001b[0m\u001b[1;32m    200\u001b[0m         \u001b[0;32mreturn\u001b[0m \u001b[0mmax_abs_value\u001b[0m \u001b[0;32mif\u001b[0m \u001b[0mnormalize\u001b[0m \u001b[0;32melse\u001b[0m \u001b[0;36m1\u001b[0m\u001b[0;34m\u001b[0m\u001b[0;34m\u001b[0m\u001b[0m\n\u001b[1;32m    201\u001b[0m \u001b[0;34m\u001b[0m\u001b[0m\n",
      "\u001b[0;31mValueError\u001b[0m: Audio data must be between -1 and 1 when normalize=False."
     ]
    }
   ],
   "source": [
    "cs = cs_hdtv\n",
    "sig = beat_freq(f1=f1_w.value, a1=a1_w.value, f2=f2_w.value,  a2 =a2_w.value)\n",
    "(f1, a1, f2, a2) = (f1_w.value, a1_w.value*7e14, f2_w.value, a2_w.value*7e14)\n",
    "spec = get_spec(f1, a1, f2, a2).values\n",
    "fig, ax = plt.subplots()\n",
    "html_rgb = cs.spec_to_rgb(spec, out_fmt='html')\n",
    "\n",
    "circle = Circle(xy=(0.5, 0.5), radius=0.5, fc=html_rgb)\n",
    "ax.add_patch(circle)\n",
    "ax.set_facecolor('k')\n",
    "plt.show()"
   ]
  },
  {
   "cell_type": "code",
   "execution_count": null,
   "metadata": {},
   "outputs": [],
   "source": [
    "# can't manage to get the output widget\n",
    "def make_beat_freq_widget(f1=220.0, a1=0.5, f2=224.0, a2 =0.5):\n",
    "    audio_out = widgets.Output()\n",
    "    max_time = 3\n",
    "    rate = 8000\n",
    "    times = np.linspace(0,max_time,rate*max_time)\n",
    "    signal = a1*np.sin(2*np.pi*f1*times) + a2*np.sin(2*np.pi*f2*times)\n",
    "    with audio_out:\n",
    "        display(Audio(data=signal, rate=rate))\n",
    "    return audio_out"
   ]
  },
  {
   "cell_type": "code",
   "execution_count": null,
   "metadata": {},
   "outputs": [],
   "source": [
    "def make_beat_freq_widget(d):\n",
    "    f1=f1_w.value\n",
    "    a1=a1_w.value\n",
    "    f2=f2_w.value\n",
    "    a2 =a2_w.value\n",
    "    audio_out = widgets.Output()\n",
    "    max_time = 3\n",
    "    rate = 8000\n",
    "    times = np.linspace(0,max_time,rate*max_time)\n",
    "    signal = a1*np.sin(2*np.pi*f1*times) + a2*np.sin(2*np.pi*f2*times)\n",
    "    with audio_out:\n",
    "        display(Audio(data=signal, rate=rate, autoplay=True, normalize=False))\n",
    "    return audio_out"
   ]
  },
  {
   "cell_type": "code",
   "execution_count": null,
   "metadata": {},
   "outputs": [],
   "source": [
    "# autoplay interactive\n",
    "v = interactive(beat_freq, f1=(100.0,780.0), f2=(100.0,780.0), a1=(0.0,0.5), a2=(0.0,0.5))\n",
    "display(v)"
   ]
  },
  {
   "cell_type": "code",
   "execution_count": null,
   "metadata": {},
   "outputs": [],
   "source": []
  },
  {
   "cell_type": "code",
   "execution_count": null,
   "metadata": {},
   "outputs": [],
   "source": [
    "def beat_freq_and_fig(f1=531.0, f2=620.7, a1=1.0):\n",
    "    \"\"\"autoplay sound and matplotlib display\"\"\"\n",
    "    \n",
    "    # put this back in the signature when \n",
    "    # we figure out how to un-normalize the \n",
    "    # component signals\n",
    "    a2 = 2-a1 \n",
    "    max_time = 20\n",
    "    rate = 8000\n",
    "    \n",
    "    pitch_1 = 2*f1 - 500\n",
    "    pitch_2 = 2*f2 - 500\n",
    "    times = np.linspace(0,max_time,rate*max_time)\n",
    "    sig1 = a1*np.sin(2*np.pi*pitch_1*times) \n",
    "    sig2 = a2*np.sin(2*np.pi*pitch_2*times)\n",
    "    display(Audio(data=sig1+sig2, rate=rate,autoplay=True))\n",
    "    spec1 = get_spec(f1, a1).values\n",
    "    spec2 = get_spec(f2, a2).values\n",
    "    spec3 = spec1 + spec2\n",
    "    fig, ax = plt.subplots()\n",
    "    html_rgb_1 = cs.spec_to_rgb(spec1, out_fmt='html')\n",
    "    html_rgb_2 = cs.spec_to_rgb(spec2, out_fmt='html')\n",
    "    html_rgb_3 = cs.spec_to_rgb(spec3, out_fmt='html')\n",
    "\n",
    "    circle1 = Circle(xy=(0.25, 0.5), radius=0.15*a1, fc=html_rgb_1)\n",
    "    circle2 = Circle(xy=(0.75, 0.5), radius=0.15*a2, fc=html_rgb_2)\n",
    "    circle3 = Circle(xy=(0.25 * a1/(a1+a2) + 0.75*a2/(a1+a2), 0.5), \n",
    "                     radius=0.15 * (a1 + a2) / 2, \n",
    "                     fc=html_rgb_3)\n",
    "    ax.add_patch(circle1)\n",
    "    ax.add_patch(circle2)\n",
    "    ax.add_patch(circle3)\n",
    "    ax.set_facecolor('k')\n",
    "    plt.show()\n",
    "    return"
   ]
  },
  {
   "cell_type": "markdown",
   "metadata": {},
   "source": [
    "Suggestion\n",
    "\n",
    "Side-by-side or toggle:"
   ]
  },
  {
   "cell_type": "markdown",
   "metadata": {},
   "source": [
    "one slider controls apparent color, the other slider the gap between wavelengths"
   ]
  },
  {
   "cell_type": "markdown",
   "metadata": {},
   "source": [
    "We seem to be missing an amplitude dimension. We have relative volume and relative brightness when we mix the two signals, but there is an unwanted normalization happening when they are on their own. When a1 goes to zero, the circle should fade to black. "
   ]
  },
  {
   "cell_type": "markdown",
   "metadata": {},
   "source": [
    "It would be cool to either be able to mix colors on an ipad and have it make the corresponding tones, or give it a live audio input and have it display the component and composite colors"
   ]
  },
  {
   "cell_type": "code",
   "execution_count": 9,
   "metadata": {},
   "outputs": [],
   "source": [
    "# what's going on at f1 = 565.0 vs 565.1, f2 = 425.0.\n",
    "# very rapid change from warm to cool"
   ]
  },
  {
   "cell_type": "code",
   "execution_count": 10,
   "metadata": {},
   "outputs": [
    {
     "ename": "NameError",
     "evalue": "name 'beat_freq_and_fig' is not defined",
     "output_type": "error",
     "traceback": [
      "\u001b[0;31m---------------------------------------------------------------------------\u001b[0m",
      "\u001b[0;31mNameError\u001b[0m                                 Traceback (most recent call last)",
      "\u001b[0;32m<ipython-input-10-6cc78fcd8d63>\u001b[0m in \u001b[0;36m<module>\u001b[0;34m\u001b[0m\n\u001b[1;32m      1\u001b[0m \u001b[0;31m# autoplay interactive\u001b[0m\u001b[0;34m\u001b[0m\u001b[0;34m\u001b[0m\u001b[0;34m\u001b[0m\u001b[0m\n\u001b[0;32m----> 2\u001b[0;31m \u001b[0mv\u001b[0m \u001b[0;34m=\u001b[0m \u001b[0minteractive\u001b[0m\u001b[0;34m(\u001b[0m\u001b[0mbeat_freq_and_fig\u001b[0m\u001b[0;34m,\u001b[0m \u001b[0mf1\u001b[0m\u001b[0;34m=\u001b[0m\u001b[0;34m(\u001b[0m\u001b[0;36m381.0\u001b[0m\u001b[0;34m,\u001b[0m\u001b[0;36m779.0\u001b[0m\u001b[0;34m)\u001b[0m\u001b[0;34m,\u001b[0m \u001b[0mf2\u001b[0m\u001b[0;34m=\u001b[0m\u001b[0;34m(\u001b[0m\u001b[0;36m381.0\u001b[0m\u001b[0;34m,\u001b[0m\u001b[0;36m779.0\u001b[0m\u001b[0;34m)\u001b[0m\u001b[0;34m,\u001b[0m \u001b[0ma1\u001b[0m\u001b[0;34m=\u001b[0m\u001b[0;34m(\u001b[0m\u001b[0;36m0.0\u001b[0m\u001b[0;34m,\u001b[0m\u001b[0;36m2.0\u001b[0m\u001b[0;34m)\u001b[0m\u001b[0;34m)\u001b[0m\u001b[0;34m\u001b[0m\u001b[0;34m\u001b[0m\u001b[0m\n\u001b[0m\u001b[1;32m      3\u001b[0m \u001b[0mdisplay\u001b[0m\u001b[0;34m(\u001b[0m\u001b[0mv\u001b[0m\u001b[0;34m)\u001b[0m\u001b[0;34m\u001b[0m\u001b[0;34m\u001b[0m\u001b[0m\n",
      "\u001b[0;31mNameError\u001b[0m: name 'beat_freq_and_fig' is not defined"
     ]
    }
   ],
   "source": [
    "# autoplay interactive\n",
    "v = interactive(beat_freq_and_fig, f1=(381.0,779.0), f2=(381.0,779.0), a1=(0.0,2.0))\n",
    "display(v)"
   ]
  },
  {
   "cell_type": "markdown",
   "metadata": {},
   "source": [
    "We should do chords like this, potentially with some kind of venn diagram or something\n",
    "\n",
    "Or, take a midi piano track. Shostakovich would be cool, or maybe Bach. Something mathematical sounding.\n",
    "\n",
    "For the current input, There should be more sounds. And some lower pitch ones. It sounds cooler when you have lots of these widgets going. \n",
    "\n",
    "Maybe the sliders could control whole chords whose root note can shift continuously, or you can modify the intensity of harmonics?"
   ]
  },
  {
   "cell_type": "markdown",
   "metadata": {},
   "source": [
    "would be good to have a fixed pallette of pitches that are harmonious, and draw from them"
   ]
  },
  {
   "cell_type": "markdown",
   "metadata": {},
   "source": [
    "In general they should make crazy psychelelic sound input apps on iPad. Like you drag your finger across the surface and an iridescent trace follows it, and a corresponding sound. Maybe the pitch and color correspond to a measure of the energy, and the surface of the ipad is like the surface of water. Or something that looks like a ctenephor. I want a combination of a zip and a tinkle sound. "
   ]
  },
  {
   "cell_type": "markdown",
   "metadata": {},
   "source": []
  },
  {
   "cell_type": "code",
   "execution_count": null,
   "metadata": {},
   "outputs": [],
   "source": [
    "def beat_freq_and_fig_more(f1=533.20, f2=456.20, f3=590.60, a1=1.0, a2=1.0):\n",
    "    \"\"\"autoplay sound and matplotlib display\"\"\"\n",
    "    \n",
    "    # put this back in the signature when \n",
    "    # we figure out how to un-normalize the \n",
    "    # component signals\n",
    "    a3 = 3-a1-a2 \n",
    "    max_time = 5\n",
    "    rate = 8000\n",
    "    \n",
    "    pitch_1 = 2*f1 - 500\n",
    "    pitch_2 = 2*f2 - 500\n",
    "    pitch_3 = 2*f3 - 500\n",
    "    times = np.linspace(0,max_time,rate*max_time)\n",
    "    sig1 = 3*a1*np.sin(2*np.pi*pitch_1*times)-0.5 \n",
    "    sig2 = 3*a2*np.sin(2*np.pi*pitch_2*times)-0.5\n",
    "    sig3 = 3*a3*np.sin(2*np.pi*pitch_3*times)-0.5\n",
    "    display(Audio(data=sig1+sig2+sig3, rate=rate,autoplay=True))\n",
    "    spec1 = get_spec(f1, a1).values\n",
    "    spec2 = get_spec(f2, a2).values\n",
    "    spec3 = get_spec(f3, a3).values\n",
    "    spec_tot = spec1 + spec2 + spec3\n",
    "    fig, ax = plt.subplots()\n",
    "    html_rgb_1 = cs.spec_to_rgb(spec1, out_fmt='html')\n",
    "    html_rgb_2 = cs.spec_to_rgb(spec2, out_fmt='html')\n",
    "    html_rgb_3 = cs.spec_to_rgb(spec3, out_fmt='html')\n",
    "    html_rgb_tot = cs.spec_to_rgb(spec_tot, out_fmt='html')\n",
    "\n",
    "    circle1 = Circle(xy=(0.25, 0.25), radius=0.15*a1, fc=html_rgb_1)\n",
    "    circle2 = Circle(xy=(0.5, 0.75), radius=0.15*a2, fc=html_rgb_2)\n",
    "    circle3 = Circle(xy=(0.75, 0.25), radius=0.15*a3, fc=html_rgb_3)\n",
    "    circle_tot = Circle(xy=(0.25 * a1/(a1+a2+a3) + 0.5*a2/(a1+a2+a3) + 0.75 * a3/(a1+a2+a3),\n",
    "                            0.25 * a1/(a1+a2+a3) + 0.75*a2/(a1+a2+a3) + 0.25 * a3/(a1+a2+a3)), \n",
    "                     radius=0.15 * (a1 + a2 + a3) / 3, \n",
    "                     fc=html_rgb_tot)\n",
    "    ax.add_patch(circle1)\n",
    "    ax.add_patch(circle2)\n",
    "    ax.add_patch(circle3)\n",
    "    ax.add_patch(circle_tot)\n",
    "    ax.set_facecolor('k')\n",
    "    plt.show()\n",
    "    return"
   ]
  },
  {
   "cell_type": "code",
   "execution_count": null,
   "metadata": {},
   "outputs": [],
   "source": [
    "# autoplay interactive\n",
    "v = interactive(beat_freq_and_fig_more, f1=(381.0,779.0), f2=(381.0,779.0), f3=(381.0,779.0), a1=(0.0,2.0),\n",
    "                a2=(0.0,2.0))\n",
    "display(v)"
   ]
  },
  {
   "cell_type": "code",
   "execution_count": null,
   "metadata": {},
   "outputs": [],
   "source": [
    "(f1, a1, f2, a2) = (600, 7e14, 400, 7e14)\n",
    "spec = get_spec(f1, a1, f2, a2)\n",
    "fig, ax = plt.subplots()\n",
    "html_rgb = cs.spec_to_rgb(spec, out_fmt='html')\n",
    "\n",
    "# Place and label a circle with the colour of a black body at temperature T\n",
    "# x, y = i % 6, -(i // 6)\n",
    "circle = Circle(xy=(0.5, 0.5), radius=0.5, fc=html_rgb)\n",
    "ax.add_patch(circle)\n",
    "ax.set_facecolor('k')\n",
    "plt.show()"
   ]
  },
  {
   "cell_type": "code",
   "execution_count": null,
   "metadata": {},
   "outputs": [],
   "source": [
    "import numpy as np\n",
    "from scipy.constants import h, c, k\n",
    "import matplotlib.pyplot as plt\n",
    "from matplotlib.patches import Circle\n",
    "\n",
    "# from colour_system import cs_hdtv\n",
    "cs = cs_hdtv\n",
    "\n",
    "def planck(lam, T):\n",
    "    \"\"\" Returns the spectral radiance of a black body at temperature T.\n",
    "\n",
    "    Returns the spectral radiance, B(lam, T), in W.sr-1.m-2 of a black body\n",
    "    at temperature T (in K) at a wavelength lam (in nm), using Planck's law.\n",
    "\n",
    "    \"\"\"\n",
    "\n",
    "    lam_m = lam / 1.e9\n",
    "    fac = h*c/lam_m/k/T\n",
    "    B = 2*h*c**2/lam_m**5 / (np.exp(fac) - 1)\n",
    "    return B\n",
    "\n",
    "fig, ax = plt.subplots()\n",
    "\n",
    "# The grid of visible wavelengths corresponding to the grid of colour-matching\n",
    "# functions used by the ColourSystem instance.\n",
    "lam = np.arange(380., 781., 5)\n",
    "\n",
    "for i in range(24):\n",
    "    # T = 500 to 12000 K\n",
    "    T = 500*i + 500\n",
    "\n",
    "    # Calculate the black body spectrum and the HTML hex RGB colour string\n",
    "    # it looks like\n",
    "    spec = planck(lam, T)\n",
    "    html_rgb = cs.spec_to_rgb(spec, out_fmt='html')\n",
    "\n",
    "    # Place and label a circle with the colour of a black body at temperature T\n",
    "    x, y = i % 6, -(i // 6)\n",
    "    circle = Circle(xy=(x, y*1.2), radius=0.4, fc=html_rgb)\n",
    "    ax.add_patch(circle)\n",
    "    ax.annotate('{:4d} K'.format(T), xy=(x, y*1.2-0.5), va='center',\n",
    "                ha='center', color=html_rgb)\n",
    "\n",
    "# Set the limits and background colour; remove the ticks\n",
    "ax.set_xlim(-0.5,5.5)\n",
    "ax.set_ylim(-4.35, 0.5)\n",
    "ax.set_xticks([])\n",
    "ax.set_yticks([])\n",
    "ax.set_facecolor('k')\n",
    "# Make sure our circles are circular!\n",
    "ax.set_aspect(\"equal\")\n",
    "plt.show()"
   ]
  },
  {
   "cell_type": "code",
   "execution_count": null,
   "metadata": {},
   "outputs": [],
   "source": [
    "planck(lam, T)"
   ]
  },
  {
   "cell_type": "code",
   "execution_count": null,
   "metadata": {},
   "outputs": [],
   "source": []
  },
  {
   "cell_type": "code",
   "execution_count": null,
   "metadata": {},
   "outputs": [],
   "source": []
  },
  {
   "cell_type": "code",
   "execution_count": null,
   "metadata": {},
   "outputs": [],
   "source": [
    "# try to use interactive\n",
    "# unfortunately bqplot doesn't work with interactive. \n",
    "def beat_freq_2(f1=400.0, a1=1.0, f2=500.0, a2 =1.0):\n",
    "\n",
    "    max_time = 3\n",
    "    rate = 8000\n",
    "    times = np.linspace(0,max_time,rate*max_time)\n",
    "    signal = a1*np.sin(2*np.pi*f1*times) + a2*np.sin(2*np.pi*f2*times)\n",
    "    display(Audio(data=signal, rate=rate))\n",
    "    \n",
    "    fig = bqplt.figure()\n",
    "        \n",
    "    spec = get_spec(f1, a1*7e14, f2, a2=7e14).values\n",
    "\n",
    "    html_rgb = cs.spec_to_rgb(spec, out_fmt='html')\n",
    "    patch = bqplt.plot([],[],\n",
    "                     fill_colors=[html_rgb],\n",
    "                 fill='inside',\n",
    "                 axes_options={'x': {'visible': False}, 'y': {'visible': False}},\n",
    "                 stroke_width=10,\n",
    "                 close_path=True,\n",
    "                 display_legend=True)\n",
    "\n",
    "    patch.x = [[0, 1, 1, 0]], \n",
    "    patch.y = [[0, 1, 0, 1]]\n",
    "    display(patch)\n",
    "    return signal\n",
    "\n",
    "interactive(beat_freq_2, f1=(382.0,778.0), a1=(0.0,2.0), f2=(382.0,778.0),  a2=(0.0,2.0))"
   ]
  },
  {
   "cell_type": "code",
   "execution_count": null,
   "metadata": {},
   "outputs": [],
   "source": [
    "(f1, a1, f2, a2) = (381, 7e14, 500, 7e14)\n",
    "spec = get_spec(f1, a1, f2, a2).values\n",
    "fig, ax = plt.subplots()\n",
    "html_rgb = cs_hdtv.spec_to_rgb(spec, out_fmt='html')\n",
    "\n",
    "# Place and label a circle with the colour of a black body at temperature T\n",
    "# x, y = i % 6, -(i // 6)\n",
    "circle = Circle(xy=(0.5, 0.5), radius=0.5, fc=html_rgb)\n",
    "ax.add_patch(circle)\n",
    "ax.set_facecolor('k')\n",
    "plt.show()"
   ]
  },
  {
   "cell_type": "code",
   "execution_count": null,
   "metadata": {},
   "outputs": [],
   "source": [
    "html_rgb"
   ]
  },
  {
   "cell_type": "code",
   "execution_count": null,
   "metadata": {},
   "outputs": [],
   "source": []
  },
  {
   "cell_type": "code",
   "execution_count": null,
   "metadata": {},
   "outputs": [],
   "source": [
    "import sk_dsp_comm.sigsys as ss\n",
    "import sk_dsp_comm.pyaudio_helper as pah"
   ]
  },
  {
   "cell_type": "code",
   "execution_count": null,
   "metadata": {},
   "outputs": [],
   "source": [
    "L_gain = widgets.FloatSlider(description = 'L Gain',\n",
    "    continuous_update = True,\n",
    "    value = 1.0,\n",
    "    min = 0.0,\n",
    "    max = 2.0,\n",
    "    step = 0.01,\n",
    "    orientation = 'vertical')\n",
    "R_gain = widgets.FloatSlider(description = 'R Gain',\n",
    "    continuous_update = True,\n",
    "    value = 1.0,\n",
    "    min = 0.0,\n",
    "    max = 2.0,\n",
    "    step = 0.01,\n",
    "    orientation = 'vertical')"
   ]
  },
  {
   "cell_type": "code",
   "execution_count": null,
   "metadata": {},
   "outputs": [],
   "source": []
  },
  {
   "cell_type": "markdown",
   "metadata": {},
   "source": [
    "# Matplotlib-venn"
   ]
  },
  {
   "cell_type": "code",
   "execution_count": null,
   "metadata": {},
   "outputs": [],
   "source": [
    "from matplotlib_venn import venn2\n",
    "venn2(subsets = (3, 2, 1))"
   ]
  },
  {
   "cell_type": "code",
   "execution_count": null,
   "metadata": {},
   "outputs": [],
   "source": [
    "from matplotlib_venn import venn3\n",
    "venn3(subsets = (1, 1, 1, 2, 1, 2, 2), set_labels = ('Set1', 'Set2', 'Set3'))"
   ]
  },
  {
   "cell_type": "code",
   "execution_count": null,
   "metadata": {},
   "outputs": [],
   "source": [
    "from matplotlib import pyplot as plt\n",
    "import numpy as np\n",
    "from matplotlib_venn import venn3, venn3_circles\n",
    "plt.figure(figsize=(4,4))\n",
    "v = venn3(subsets=(1, 1, 1, 1, 1, 1, 1), set_labels = ('', '', ''))\n",
    "v.get_patch_by_id('100').set_alpha(1.0)\n",
    "v.get_patch_by_id('100').set_color('white')\n",
    "v.get_label_by_id('100').set_text('')\n",
    "v.get_label_by_id('010').set_text('')\n",
    "v.get_label_by_id('001').set_text('')\n",
    "v.get_label_by_id('011').set_text('')\n",
    "v.get_label_by_id('110').set_text('')\n",
    "v.get_label_by_id('101').set_text('')\n",
    "v.get_label_by_id('111').set_text('')\n",
    "# v.get_label_by_id('A').set_text('Set \"A\"')\n",
    "c = venn3_circles(subsets=(1, 1, 1, 1, 1, 1, 1), linestyle='-')\n",
    "\n",
    "plt.show()"
   ]
  },
  {
   "cell_type": "code",
   "execution_count": 18,
   "metadata": {},
   "outputs": [],
   "source": []
  },
  {
   "cell_type": "code",
   "execution_count": 28,
   "metadata": {},
   "outputs": [],
   "source": [
    "from matplotlib_venn import venn3, venn3_circles\n",
    "from itertools import product\n",
    "# non-Normalization is not wor\n",
    "\n",
    "\n",
    "def beat_freq_and_fig_venn(f1=455.5, f2=520.5, f3=590.60, a1=0.3, a2=0.3, a3=0.3):\n",
    "    \"\"\"autoplay sound and matplotlib display\"\"\"\n",
    "    cs = cs_hdtv\n",
    "    # put this back in the signature when \n",
    "    # we figure out how to un-normalize the \n",
    "    # component signals\n",
    "    max_time = 5\n",
    "    rate = 8000\n",
    "    \n",
    "    amp_tot = a1 + a2 + a3\n",
    "    if amp_tot > 1.0:\n",
    "        a1/=amp_tot\n",
    "        a2/=amp_tot\n",
    "        a3/=amp_tot\n",
    "    pitch_1 = 2*f1 - 500\n",
    "    pitch_2 = 2*f2 - 500\n",
    "    pitch_3 = 2*f3 - 500\n",
    "    times = np.linspace(0,max_time,rate*max_time)\n",
    "    sig1 = a1*np.sin(2*np.pi*pitch_1*times) \n",
    "    sig2 = a2*np.sin(2*np.pi*pitch_2*times)\n",
    "    sig3 = a3*np.sin(2*np.pi*pitch_3*times)\n",
    "    sig_tot = sig1+sig2+sig3\n",
    "\n",
    "    display(Audio(data=sig_tot, rate=rate,autoplay=True, normalize=False))\n",
    "    \n",
    "    spec1 = get_spec(f1, a1).values\n",
    "    spec2 = get_spec(f2, a2).values\n",
    "    spec3 = get_spec(f3, a3).values\n",
    "\n",
    "    plt.figure(figsize=(4,4), facecolor='k')\n",
    "    v = venn3(subsets=(1, 1, 1, 1, 1, 1, 1), set_labels = ('', '', ''))\n",
    "    # this would be easy to do by iteration over the cartesian product:\n",
    "    for elem in product([0,1],[0,1],[0,1]):\n",
    "        if elem != (0,0,0):\n",
    "            this_id = str(elem[0])+str(elem[1])+str(elem[2])  # eg '100', '010', etc\n",
    "            this_spec = elem[0]*spec1 + elem[1]*spec2 + elem[2]*spec3\n",
    "            this_rgb = cs.spec_to_rgb(this_spec, out_fmt='html', normalize=False)\n",
    "            v.get_patch_by_id(this_id).set_color(this_rgb)\n",
    "            v.get_patch_by_id(this_id).set_alpha(1.0)\n",
    "            v.get_label_by_id(this_id).set_text('')\n",
    "\n",
    "    c = venn3_circles(subsets=(1, 1, 1, 1, 1, 1, 1), linestyle='-')\n",
    "\n",
    "    plt.show()\n",
    "    return"
   ]
  },
  {
   "cell_type": "code",
   "execution_count": 30,
   "metadata": {
    "scrolled": false
   },
   "outputs": [
    {
     "data": {
      "application/vnd.jupyter.widget-view+json": {
       "model_id": "b3a8b99b52fd4ae0b7ce6b9f2589bf8b",
       "version_major": 2,
       "version_minor": 0
      },
      "text/plain": [
       "interactive(children=(FloatSlider(value=455.5, description='f1', max=779.0, min=381.0), FloatSlider(value=520.…"
      ]
     },
     "metadata": {},
     "output_type": "display_data"
    }
   ],
   "source": [
    "# autoplay interactive\n",
    "v = interactive(beat_freq_and_fig_venn, f1=(381.0,779.0), f2=(381.0,779.0), f3=(381.0,779.0), a1=(0.0,1.0, 0.01),\n",
    "                a2=(0.0,1.0, 0.01), a3=(0.0,1.0, 0.01))\n",
    "display(v)"
   ]
  },
  {
   "cell_type": "markdown",
   "metadata": {},
   "source": [
    "# plot distributions of swim times for men and women, granite man triathlon:"
   ]
  },
  {
   "cell_type": "code",
   "execution_count": null,
   "metadata": {},
   "outputs": [],
   "source": [
    "\n",
    "pathname = \"/Users/claywcampaigne/Desktop/Granite_Man_Triathlon_INDIVIDUALS.csv\"\n",
    "tridata = pd.read_csv(pathname)\n",
    "tridata.loc[:157,'Swim'] = '01:' +tridata.loc[:157,'Swim']\n",
    "tridata.loc[158:,'Swim'] = '0' +tridata.loc[158:,'Swim']\n",
    "df = pd.DataFrame(index=tridata.index)\n",
    "df['swimtime'] = pd.to_timedelta(tridata['Swim']).dt.total_seconds()\n",
    "df['sex'] = tridata['Sex']\n",
    "fig, ax = plt.subplots()\n",
    "ax.hist(df.loc[df['sex']=='M','swimtime'], bins=20, color='blue', alpha=0.5,label='men')\n",
    "ax.hist(df.loc[df['sex']=='F','swimtime'], bins=20, color='red', alpha=0.5, label='women')\n",
    "fig.legend()"
   ]
  },
  {
   "cell_type": "code",
   "execution_count": null,
   "metadata": {},
   "outputs": [],
   "source": []
  },
  {
   "cell_type": "code",
   "execution_count": null,
   "metadata": {},
   "outputs": [],
   "source": []
  },
  {
   "cell_type": "markdown",
   "metadata": {},
   "source": [
    "# colour-science package:"
   ]
  },
  {
   "cell_type": "code",
   "execution_count": 64,
   "metadata": {},
   "outputs": [],
   "source": [
    "import pandas as pd\n",
    "import colour\n",
    "import numpy as np\n",
    "from colour.plotting import *"
   ]
  },
  {
   "cell_type": "markdown",
   "metadata": {},
   "source": [
    "455.5, f2=520.5, f3=590.60,"
   ]
  },
  {
   "cell_type": "code",
   "execution_count": 18,
   "metadata": {},
   "outputs": [],
   "source": [
    "data_sample_1 = {440:0, 450:0, 455:10, 460:0, 500:0}"
   ]
  },
  {
   "cell_type": "code",
   "execution_count": 97,
   "metadata": {},
   "outputs": [],
   "source": [
    "def wvl_int_to_sd(wv, amp, gridspace=1):\n",
    "    \"\"\"Get a delta function for a single wavelength\"\"\"\n",
    "    data_sample = {i:0.0 for i in range(360, 831, gridspace)}\n",
    "    data_sample[int(gridspace*np.round(wv/gridspace))] = amp \n",
    "    return colour.SpectralDistribution(data_sample)"
   ]
  },
  {
   "cell_type": "code",
   "execution_count": null,
   "metadata": {},
   "outputs": [],
   "source": [
    "def specd_to_rgb(sd):\n",
    "    return colour.XYZ_to_sRGB(colour.sd_to_XYZ(sd)"
   ]
  },
  {
   "cell_type": "code",
   "execution_count": 98,
   "metadata": {},
   "outputs": [
    {
     "data": {
      "image/png": "[encoded data removed]",
      "text/plain": [
       "<Figure size 432x288 with 1 Axes>"
      ]
     },
     "metadata": {
      "needs_background": "light"
     },
     "output_type": "display_data"
    },
    {
     "data": {
      "text/plain": [
       "(<Figure size 432x288 with 1 Axes>, <AxesSubplot:title={'center':'SpectralDistribution (140408393311680) - CIE 1931 2$^\\\\circ$ Standard Observer'}, xlabel='Wavelength $\\\\lambda$ (nm)', ylabel='Spectral Distribution'>)"
      ]
     },
     "execution_count": 98,
     "metadata": {},
     "output_type": "execute_result"
    }
   ],
   "source": [
    "sd_ = wvl_int_to_sd(701.1,10) + wvl_int_to_sd(400.1,10)\n",
    "color.plotting.plot_single_sd(sd_)"
   ]
  },
  {
   "cell_type": "code",
   "execution_count": 102,
   "metadata": {},
   "outputs": [],
   "source": []
  },
  {
   "cell_type": "code",
   "execution_count": 107,
   "metadata": {},
   "outputs": [
    {
     "data": {
      "text/plain": [
       "array([ 0.64904192, -1.62078967,  0.8412228 ])"
      ]
     },
     "execution_count": 107,
     "metadata": {},
     "output_type": "execute_result"
    }
   ],
   "source": [
    "rgb_swatch"
   ]
  },
  {
   "cell_type": "code",
   "execution_count": 124,
   "metadata": {},
   "outputs": [
    {
     "data": {
      "text/plain": [
       "array([ 0.64904192, -1.62078967,  0.8412228 ])"
      ]
     },
     "execution_count": 124,
     "metadata": {},
     "output_type": "execute_result"
    }
   ],
   "source": [
    "rgb_swatch"
   ]
  },
  {
   "cell_type": "code",
   "execution_count": 143,
   "metadata": {},
   "outputs": [
    {
     "data": {
      "image/png": "[encoded data removed]",
      "text/plain": [
       "<Figure size 432x288 with 1 Axes>"
      ]
     },
     "metadata": {},
     "output_type": "display_data"
    },
    {
     "data": {
      "text/plain": [
       "(<Figure size 432x288 with 1 Axes>, <AxesSubplot:>)"
      ]
     },
     "execution_count": 143,
     "metadata": {},
     "output_type": "execute_result"
    }
   ],
   "source": [
    "sd_ = wvl_int_to_sd(480,10) + wvl_int_to_sd(490,10)\n",
    "rgb_swatch = colour.XYZ_to_sRGB(colour.sd_to_XYZ(sd_))\n",
    "colour.plotting.plot_single_colour_swatch(\n",
    "    ColourSwatch('Sample', rgb_swatch),\n",
    "    text_kwargs={'size': 'x-large'})\n"
   ]
  },
  {
   "cell_type": "code",
   "execution_count": null,
   "metadata": {},
   "outputs": [],
   "source": [
    "# min is 360\n",
    "# max is 830"
   ]
  },
  {
   "cell_type": "code",
   "execution_count": 59,
   "metadata": {},
   "outputs": [
    {
     "name": "stderr",
     "output_type": "stream",
     "text": [
      "/Users/claywcampaigne/anaconda3/envs/synesthesia/lib/python3.7/site-packages/colour/plotting/common.py:552: UserWarning: Attempting to set identical bottom == top == 0 results in singular transformations; automatically expanding.\n",
      "  axes.set_ylim(settings.bounding_box[2], settings.bounding_box[3])\n"
     ]
    },
    {
     "data": {
      "image/png": "[encoded data removed]",
      "text/plain": [
       "<Figure size 432x288 with 1 Axes>"
      ]
     },
     "metadata": {
      "needs_background": "light"
     },
     "output_type": "display_data"
    },
    {
     "data": {
      "text/plain": [
       "(<Figure size 432x288 with 1 Axes>,\n",
       " <AxesSubplot:title={'center':'SpectralDistribution (140408393313024) - CIE 1931 2$^\\\\circ$ Standard Observer'}, xlabel='Wavelength $\\\\lambda$ (nm)', ylabel='Spectral Distribution'>)"
      ]
     },
     "execution_count": 59,
     "metadata": {},
     "output_type": "execute_result"
    }
   ],
   "source": [
    "color.plotting.plot_single_sd(wvl_int_to_sd(831,10))"
   ]
  },
  {
   "cell_type": "code",
   "execution_count": 40,
   "metadata": {},
   "outputs": [
    {
     "data": {
      "text/plain": [
       "SpectralDistribution([[ 497.,   nan],\n",
       "                      [ 498.,   nan],\n",
       "                      [ 499.,   nan],\n",
       "                      [ 500.,   nan],\n",
       "                      [ 501.,   nan],\n",
       "                      [ 502.,   nan],\n",
       "                      [ 503.,   nan],\n",
       "                      [ 697.,   nan],\n",
       "                      [ 698.,   nan],\n",
       "                      [ 699.,   nan],\n",
       "                      [ 700.,   nan],\n",
       "                      [ 701.,   nan],\n",
       "                      [ 702.,   nan],\n",
       "                      [ 703.,   nan]],\n",
       "                     interpolator=SpragueInterpolator,\n",
       "                     interpolator_kwargs={},\n",
       "                     extrapolator=Extrapolator,\n",
       "                     extrapolator_kwargs={'method': 'Constant', 'left': None, 'right': None})"
      ]
     },
     "execution_count": 40,
     "metadata": {},
     "output_type": "execute_result"
    }
   ],
   "source": [
    "wvl_int_to_sd(700,10)+wvl_int_to_sd(500,10)"
   ]
  },
  {
   "cell_type": "code",
   "execution_count": 19,
   "metadata": {},
   "outputs": [],
   "source": [
    "sd = colour.SpectralDistribution(data_sample)"
   ]
  },
  {
   "cell_type": "code",
   "execution_count": 20,
   "metadata": {},
   "outputs": [
    {
     "data": {
      "text/plain": [
       "SpectralDistribution([[ 440.,    0.],\n",
       "                      [ 450.,    0.],\n",
       "                      [ 455.,   10.],\n",
       "                      [ 460.,    0.],\n",
       "                      [ 500.,    0.]],\n",
       "                     interpolator=CubicSplineInterpolator,\n",
       "                     interpolator_kwargs={},\n",
       "                     extrapolator=Extrapolator,\n",
       "                     extrapolator_kwargs={'method': 'Constant', 'left': None, 'right': None})"
      ]
     },
     "execution_count": 20,
     "metadata": {},
     "output_type": "execute_result"
    }
   ],
   "source": [
    "sd"
   ]
  },
  {
   "cell_type": "code",
   "execution_count": 22,
   "metadata": {},
   "outputs": [
    {
     "data": {
      "image/png": "[encoded data removed]",
      "text/plain": [
       "<Figure size 432x288 with 1 Axes>"
      ]
     },
     "metadata": {
      "needs_background": "light"
     },
     "output_type": "display_data"
    },
    {
     "data": {
      "text/plain": [
       "(<Figure size 432x288 with 1 Axes>,\n",
       " <AxesSubplot:title={'center':'SpectralDistribution (140407316755848) - CIE 1931 2$^\\\\circ$ Standard Observer'}, xlabel='Wavelength $\\\\lambda$ (nm)', ylabel='Spectral Distribution'>)"
      ]
     },
     "execution_count": 22,
     "metadata": {},
     "output_type": "execute_result"
    }
   ],
   "source": [
    "colour.plotting.plot_single_sd(sd)"
   ]
  },
  {
   "cell_type": "code",
   "execution_count": 12,
   "metadata": {},
   "outputs": [],
   "source": [
    "sd = colour.SpectralDistribution(data_sample, name='Sample')"
   ]
  },
  {
   "cell_type": "code",
   "execution_count": null,
   "metadata": {},
   "outputs": [],
   "source": []
  }
 ],
 "metadata": {
  "@webio": {
   "lastCommId": null,
   "lastKernelId": null
  },
  "kernelspec": {
   "display_name": "Python 3",
   "language": "python",
   "name": "python3"
  },
  "language_info": {
   "codemirror_mode": {
    "name": "ipython",
    "version": 3
   },
   "file_extension": ".py",
   "mimetype": "text/x-python",
   "name": "python",
   "nbconvert_exporter": "python",
   "pygments_lexer": "ipython3",
   "version": "3.7.3"
  }
 },
 "nbformat": 4,
 "nbformat_minor": 4
}
